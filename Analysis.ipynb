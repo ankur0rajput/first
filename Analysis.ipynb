{
 "cells": [
  {
   "cell_type": "code",
   "execution_count": 1,
   "metadata": {},
   "outputs": [],
   "source": [
    "import pandas as pd\n",
    "import numpy as np\n",
    "#import seaborn as sns"
   ]
  },
  {
   "cell_type": "code",
   "execution_count": 497,
   "metadata": {},
   "outputs": [
    {
     "name": "stderr",
     "output_type": "stream",
     "text": [
      "c:\\users\\ankur.kumar\\.conda\\envs\\tigerml\\lib\\site-packages\\ipykernel_launcher.py:2: FutureWarning: Your version of xlrd is 1.2.0. In xlrd >= 2.0, only the xls format is supported. As a result, the openpyxl engine will be used if it is installed and the engine argument is not specified. Install openpyxl instead.\n",
      "  \n"
     ]
    }
   ],
   "source": [
    "train= pd.read_csv('train_data.csv')\n",
    "test= pd.read_excel('test_data.xlsx')"
   ]
  },
  {
   "cell_type": "markdown",
   "metadata": {},
   "source": [
    "# Data Analysys"
   ]
  },
  {
   "cell_type": "code",
   "execution_count": 3,
   "metadata": {},
   "outputs": [
    {
     "name": "stdout",
     "output_type": "stream",
     "text": [
      "79945 20055\n"
     ]
    }
   ],
   "source": [
    "print(len(train),len(test))"
   ]
  },
  {
   "cell_type": "code",
   "execution_count": 4,
   "metadata": {},
   "outputs": [
    {
     "data": {
      "text/html": [
       "<div>\n",
       "<style scoped>\n",
       "    .dataframe tbody tr th:only-of-type {\n",
       "        vertical-align: middle;\n",
       "    }\n",
       "\n",
       "    .dataframe tbody tr th {\n",
       "        vertical-align: top;\n",
       "    }\n",
       "\n",
       "    .dataframe thead th {\n",
       "        text-align: right;\n",
       "    }\n",
       "</style>\n",
       "<table border=\"1\" class=\"dataframe\">\n",
       "  <thead>\n",
       "    <tr style=\"text-align: right;\">\n",
       "      <th></th>\n",
       "      <th>order_item_id</th>\n",
       "      <th>order_date</th>\n",
       "      <th>delivery_date</th>\n",
       "      <th>item_id</th>\n",
       "      <th>item_size</th>\n",
       "      <th>item_color</th>\n",
       "      <th>brand_id</th>\n",
       "      <th>item_price</th>\n",
       "      <th>user_id</th>\n",
       "      <th>user_title</th>\n",
       "      <th>user_dob</th>\n",
       "      <th>user_state</th>\n",
       "      <th>user_reg_date</th>\n",
       "      <th>return</th>\n",
       "    </tr>\n",
       "  </thead>\n",
       "  <tbody>\n",
       "    <tr>\n",
       "      <th>0</th>\n",
       "      <td>1</td>\n",
       "      <td>22-06-2016</td>\n",
       "      <td>27-06-2016</td>\n",
       "      <td>643</td>\n",
       "      <td>38</td>\n",
       "      <td>navy</td>\n",
       "      <td>30</td>\n",
       "      <td>49.9</td>\n",
       "      <td>30822</td>\n",
       "      <td>Mrs</td>\n",
       "      <td>17-04-1969</td>\n",
       "      <td>1013</td>\n",
       "      <td>23-06-2016</td>\n",
       "      <td>0</td>\n",
       "    </tr>\n",
       "  </tbody>\n",
       "</table>\n",
       "</div>"
      ],
      "text/plain": [
       "   order_item_id  order_date delivery_date  item_id item_size item_color  \\\n",
       "0              1  22-06-2016    27-06-2016      643        38       navy   \n",
       "\n",
       "   brand_id  item_price  user_id user_title    user_dob  user_state  \\\n",
       "0        30        49.9    30822        Mrs  17-04-1969        1013   \n",
       "\n",
       "  user_reg_date  return  \n",
       "0    23-06-2016       0  "
      ]
     },
     "execution_count": 4,
     "metadata": {},
     "output_type": "execute_result"
    }
   ],
   "source": [
    "train.head(1)"
   ]
  },
  {
   "cell_type": "code",
   "execution_count": 5,
   "metadata": {},
   "outputs": [
    {
     "data": {
      "text/plain": [
       "0    43283\n",
       "1    36662\n",
       "Name: return, dtype: int64"
      ]
     },
     "execution_count": 5,
     "metadata": {},
     "output_type": "execute_result"
    }
   ],
   "source": [
    "#checking the count of each target variable \n",
    "#result showing data is not imbalanced. almost equal number of data present for 0 and 1 target value.\n",
    "train['return'].value_counts()"
   ]
  },
  {
   "cell_type": "code",
   "execution_count": 6,
   "metadata": {},
   "outputs": [
    {
     "data": {
      "text/plain": [
       "order_item_id      int64\n",
       "order_date        object\n",
       "delivery_date     object\n",
       "item_id            int64\n",
       "item_size         object\n",
       "item_color        object\n",
       "brand_id           int64\n",
       "item_price       float64\n",
       "user_id            int64\n",
       "user_title        object\n",
       "user_dob          object\n",
       "user_state         int64\n",
       "user_reg_date     object\n",
       "return             int64\n",
       "dtype: object"
      ]
     },
     "execution_count": 6,
     "metadata": {},
     "output_type": "execute_result"
    }
   ],
   "source": [
    "train.dtypes"
   ]
  },
  {
   "cell_type": "code",
   "execution_count": 7,
   "metadata": {},
   "outputs": [
    {
     "name": "stdout",
     "output_type": "stream",
     "text": [
      "order_item_id       0\n",
      "order_date          0\n",
      "delivery_date    7436\n",
      "item_id             0\n",
      "item_size           0\n",
      "item_color          0\n",
      "brand_id            0\n",
      "item_price          0\n",
      "user_id             0\n",
      "user_title          0\n",
      "user_dob         6989\n",
      "user_state          0\n",
      "user_reg_date       0\n",
      "return              0\n",
      "dtype: int64\n"
     ]
    }
   ],
   "source": [
    "#checking % missing from each column\n",
    "#two columns has null values\n",
    "#we are going to use user_reg_date but not the user_dob.\n",
    "#dropping user id as well. we are not going to use as it will not add more value to data\n",
    "print(train.isnull().sum())"
   ]
  },
  {
   "cell_type": "code",
   "execution_count": 8,
   "metadata": {},
   "outputs": [],
   "source": [
    "#we are going to use user_reg_date but not the user_dob.\n",
    "#dropping user id as well. we are not going to use as it will not add more value to data\n",
    "train_new=train.drop(['user_dob','user_id'], axis=1)"
   ]
  },
  {
   "cell_type": "code",
   "execution_count": 10,
   "metadata": {},
   "outputs": [
    {
     "name": "stdout",
     "output_type": "stream",
     "text": [
      "order_item_id       0\n",
      "order_date          0\n",
      "delivery_date    7436\n",
      "item_id             0\n",
      "item_size           0\n",
      "item_color          0\n",
      "brand_id            0\n",
      "item_price          0\n",
      "user_title          0\n",
      "user_state          0\n",
      "user_reg_date       0\n",
      "return              0\n",
      "dtype: int64\n"
     ]
    }
   ],
   "source": [
    "print(train_new.isnull().sum())"
   ]
  },
  {
   "cell_type": "code",
   "execution_count": 11,
   "metadata": {},
   "outputs": [],
   "source": [
    "train_nul= train_new[(train_new['delivery_date'].isnull()) ]\n",
    "train_not_nul= train_new[(train_new['delivery_date'].notnull()) ]"
   ]
  },
  {
   "cell_type": "code",
   "execution_count": 12,
   "metadata": {},
   "outputs": [
    {
     "name": "stdout",
     "output_type": "stream",
     "text": [
      "7436 72509\n"
     ]
    }
   ],
   "source": [
    "print(len(train_nul),len(train_not_nul))"
   ]
  },
  {
   "cell_type": "code",
   "execution_count": 15,
   "metadata": {},
   "outputs": [
    {
     "data": {
      "text/plain": [
       "0    7436\n",
       "Name: return, dtype: int64"
      ]
     },
     "execution_count": 15,
     "metadata": {},
     "output_type": "execute_result"
    }
   ],
   "source": [
    "#checking the frequency of each target variable where delivery_date is null\n",
    "#outcome : all such rows belongs to 0 class. not going to add much value. going to drop those rows. So going to proceed with 'train_not_nul'\n",
    "train_nul['return'].value_counts()"
   ]
  },
  {
   "cell_type": "code",
   "execution_count": 16,
   "metadata": {},
   "outputs": [
    {
     "data": {
      "text/plain": [
       "order_item_id    0\n",
       "order_date       0\n",
       "delivery_date    0\n",
       "item_id          0\n",
       "item_size        0\n",
       "item_color       0\n",
       "brand_id         0\n",
       "item_price       0\n",
       "user_title       0\n",
       "user_state       0\n",
       "user_reg_date    0\n",
       "return           0\n",
       "dtype: int64"
      ]
     },
     "execution_count": 16,
     "metadata": {},
     "output_type": "execute_result"
    }
   ],
   "source": [
    "train_not_nul.isnull().sum()"
   ]
  },
  {
   "cell_type": "code",
   "execution_count": 18,
   "metadata": {},
   "outputs": [
    {
     "data": {
      "text/html": [
       "<div>\n",
       "<style scoped>\n",
       "    .dataframe tbody tr th:only-of-type {\n",
       "        vertical-align: middle;\n",
       "    }\n",
       "\n",
       "    .dataframe tbody tr th {\n",
       "        vertical-align: top;\n",
       "    }\n",
       "\n",
       "    .dataframe thead th {\n",
       "        text-align: right;\n",
       "    }\n",
       "</style>\n",
       "<table border=\"1\" class=\"dataframe\">\n",
       "  <thead>\n",
       "    <tr style=\"text-align: right;\">\n",
       "      <th></th>\n",
       "      <th>order_item_id</th>\n",
       "      <th>order_date</th>\n",
       "      <th>delivery_date</th>\n",
       "      <th>item_id</th>\n",
       "      <th>item_size</th>\n",
       "      <th>item_color</th>\n",
       "      <th>brand_id</th>\n",
       "      <th>item_price</th>\n",
       "      <th>user_title</th>\n",
       "      <th>user_state</th>\n",
       "      <th>user_reg_date</th>\n",
       "      <th>return</th>\n",
       "    </tr>\n",
       "  </thead>\n",
       "  <tbody>\n",
       "    <tr>\n",
       "      <th>0</th>\n",
       "      <td>1</td>\n",
       "      <td>22-06-2016</td>\n",
       "      <td>27-06-2016</td>\n",
       "      <td>643</td>\n",
       "      <td>38</td>\n",
       "      <td>navy</td>\n",
       "      <td>30</td>\n",
       "      <td>49.9</td>\n",
       "      <td>Mrs</td>\n",
       "      <td>1013</td>\n",
       "      <td>23-06-2016</td>\n",
       "      <td>0</td>\n",
       "    </tr>\n",
       "    <tr>\n",
       "      <th>1</th>\n",
       "      <td>10</td>\n",
       "      <td>22-06-2016</td>\n",
       "      <td>27-06-2016</td>\n",
       "      <td>195</td>\n",
       "      <td>xxl</td>\n",
       "      <td>grey</td>\n",
       "      <td>46</td>\n",
       "      <td>19.9</td>\n",
       "      <td>Mrs</td>\n",
       "      <td>1001</td>\n",
       "      <td>15-03-2015</td>\n",
       "      <td>1</td>\n",
       "    </tr>\n",
       "  </tbody>\n",
       "</table>\n",
       "</div>"
      ],
      "text/plain": [
       "   order_item_id  order_date delivery_date  item_id item_size item_color  \\\n",
       "0              1  22-06-2016    27-06-2016      643        38       navy   \n",
       "1             10  22-06-2016    27-06-2016      195       xxl       grey   \n",
       "\n",
       "   brand_id  item_price user_title  user_state user_reg_date  return  \n",
       "0        30        49.9        Mrs        1013    23-06-2016       0  \n",
       "1        46        19.9        Mrs        1001    15-03-2015       1  "
      ]
     },
     "execution_count": 18,
     "metadata": {},
     "output_type": "execute_result"
    }
   ],
   "source": [
    "train_not_nul.head(2)"
   ]
  },
  {
   "cell_type": "code",
   "execution_count": 115,
   "metadata": {},
   "outputs": [],
   "source": [
    "#Dropping more unnecessary columns\n",
    "df_tr=train_not_nul.drop(['order_item_id','item_id'], axis=1)"
   ]
  },
  {
   "cell_type": "code",
   "execution_count": 116,
   "metadata": {},
   "outputs": [
    {
     "data": {
      "text/html": [
       "<div>\n",
       "<style scoped>\n",
       "    .dataframe tbody tr th:only-of-type {\n",
       "        vertical-align: middle;\n",
       "    }\n",
       "\n",
       "    .dataframe tbody tr th {\n",
       "        vertical-align: top;\n",
       "    }\n",
       "\n",
       "    .dataframe thead th {\n",
       "        text-align: right;\n",
       "    }\n",
       "</style>\n",
       "<table border=\"1\" class=\"dataframe\">\n",
       "  <thead>\n",
       "    <tr style=\"text-align: right;\">\n",
       "      <th></th>\n",
       "      <th>order_date</th>\n",
       "      <th>delivery_date</th>\n",
       "      <th>item_size</th>\n",
       "      <th>item_color</th>\n",
       "      <th>brand_id</th>\n",
       "      <th>item_price</th>\n",
       "      <th>user_title</th>\n",
       "      <th>user_state</th>\n",
       "      <th>user_reg_date</th>\n",
       "      <th>return</th>\n",
       "    </tr>\n",
       "  </thead>\n",
       "  <tbody>\n",
       "    <tr>\n",
       "      <th>0</th>\n",
       "      <td>22-06-2016</td>\n",
       "      <td>27-06-2016</td>\n",
       "      <td>38</td>\n",
       "      <td>navy</td>\n",
       "      <td>30</td>\n",
       "      <td>49.9</td>\n",
       "      <td>Mrs</td>\n",
       "      <td>1013</td>\n",
       "      <td>23-06-2016</td>\n",
       "      <td>0</td>\n",
       "    </tr>\n",
       "    <tr>\n",
       "      <th>1</th>\n",
       "      <td>22-06-2016</td>\n",
       "      <td>27-06-2016</td>\n",
       "      <td>xxl</td>\n",
       "      <td>grey</td>\n",
       "      <td>46</td>\n",
       "      <td>19.9</td>\n",
       "      <td>Mrs</td>\n",
       "      <td>1001</td>\n",
       "      <td>15-03-2015</td>\n",
       "      <td>1</td>\n",
       "    </tr>\n",
       "    <tr>\n",
       "      <th>2</th>\n",
       "      <td>22-06-2016</td>\n",
       "      <td>05-07-2016</td>\n",
       "      <td>xxl</td>\n",
       "      <td>grey</td>\n",
       "      <td>5</td>\n",
       "      <td>79.9</td>\n",
       "      <td>Mrs</td>\n",
       "      <td>1001</td>\n",
       "      <td>15-03-2015</td>\n",
       "      <td>0</td>\n",
       "    </tr>\n",
       "    <tr>\n",
       "      <th>3</th>\n",
       "      <td>23-06-2016</td>\n",
       "      <td>26-06-2016</td>\n",
       "      <td>m</td>\n",
       "      <td>brown</td>\n",
       "      <td>20</td>\n",
       "      <td>19.9</td>\n",
       "      <td>Mrs</td>\n",
       "      <td>1013</td>\n",
       "      <td>17-02-2015</td>\n",
       "      <td>0</td>\n",
       "    </tr>\n",
       "    <tr>\n",
       "      <th>4</th>\n",
       "      <td>23-06-2016</td>\n",
       "      <td>26-06-2016</td>\n",
       "      <td>40</td>\n",
       "      <td>black</td>\n",
       "      <td>44</td>\n",
       "      <td>90.0</td>\n",
       "      <td>Mrs</td>\n",
       "      <td>1006</td>\n",
       "      <td>09-02-2016</td>\n",
       "      <td>1</td>\n",
       "    </tr>\n",
       "  </tbody>\n",
       "</table>\n",
       "</div>"
      ],
      "text/plain": [
       "   order_date delivery_date item_size item_color  brand_id  item_price  \\\n",
       "0  22-06-2016    27-06-2016        38       navy        30        49.9   \n",
       "1  22-06-2016    27-06-2016       xxl       grey        46        19.9   \n",
       "2  22-06-2016    05-07-2016       xxl       grey         5        79.9   \n",
       "3  23-06-2016    26-06-2016         m      brown        20        19.9   \n",
       "4  23-06-2016    26-06-2016        40      black        44        90.0   \n",
       "\n",
       "  user_title  user_state user_reg_date  return  \n",
       "0        Mrs        1013    23-06-2016       0  \n",
       "1        Mrs        1001    15-03-2015       1  \n",
       "2        Mrs        1001    15-03-2015       0  \n",
       "3        Mrs        1013    17-02-2015       0  \n",
       "4        Mrs        1006    09-02-2016       1  "
      ]
     },
     "execution_count": 116,
     "metadata": {},
     "output_type": "execute_result"
    }
   ],
   "source": [
    "df_tr.head()"
   ]
  },
  {
   "cell_type": "code",
   "execution_count": 117,
   "metadata": {},
   "outputs": [
    {
     "data": {
      "text/plain": [
       "array(['38', 'xxl', 'm', '40', '42', 'l', 'xl', '41', '7', '18', '44',\n",
       "       '19', 'unsized', '36', '6', '6+', '4', '39', '45', '37', '48',\n",
       "       '7+', 's', '8', '9+', '50', '5+', '9', '46', '35', '21', '10',\n",
       "       '43', '11+', '24', '20', '128', '11', '38+', '5', '12', '140',\n",
       "       '8+', '41+', '116', '4+', '40+', '26', '47', '52', '31', '32',\n",
       "       '28', '27', '39+', '22', '152', '30', '10+', '1', '104', '33',\n",
       "       'xs', '37+', '46+', '34', '29', '13', '42+', '23', '3632', '25',\n",
       "       '3+', '54', '36+', '44+', '3832', '3332', '4032', '3432', 'xxxl',\n",
       "       '43+', '100', '2', '176', '3', '164', '56', '45+', '90', '58',\n",
       "       '4034', '3834', '80', '2+', '3132', '14', '12+', '84', '3634'],\n",
       "      dtype=object)"
      ]
     },
     "execution_count": 117,
     "metadata": {},
     "output_type": "execute_result"
    }
   ],
   "source": [
    "#varyying a lot depending upon the product type and age of the customer\n",
    "#Outcome: going to drop it as well\n",
    "df_tr['item_size'].unique()"
   ]
  },
  {
   "cell_type": "code",
   "execution_count": 118,
   "metadata": {},
   "outputs": [],
   "source": [
    "df_tr=df_tr.drop(['item_size'], axis=1)"
   ]
  },
  {
   "cell_type": "code",
   "execution_count": 119,
   "metadata": {},
   "outputs": [
    {
     "data": {
      "text/html": [
       "<div>\n",
       "<style scoped>\n",
       "    .dataframe tbody tr th:only-of-type {\n",
       "        vertical-align: middle;\n",
       "    }\n",
       "\n",
       "    .dataframe tbody tr th {\n",
       "        vertical-align: top;\n",
       "    }\n",
       "\n",
       "    .dataframe thead th {\n",
       "        text-align: right;\n",
       "    }\n",
       "</style>\n",
       "<table border=\"1\" class=\"dataframe\">\n",
       "  <thead>\n",
       "    <tr style=\"text-align: right;\">\n",
       "      <th></th>\n",
       "      <th>order_date</th>\n",
       "      <th>delivery_date</th>\n",
       "      <th>item_color</th>\n",
       "      <th>brand_id</th>\n",
       "      <th>item_price</th>\n",
       "      <th>user_title</th>\n",
       "      <th>user_state</th>\n",
       "      <th>user_reg_date</th>\n",
       "      <th>return</th>\n",
       "    </tr>\n",
       "  </thead>\n",
       "  <tbody>\n",
       "    <tr>\n",
       "      <th>0</th>\n",
       "      <td>22-06-2016</td>\n",
       "      <td>27-06-2016</td>\n",
       "      <td>navy</td>\n",
       "      <td>30</td>\n",
       "      <td>49.9</td>\n",
       "      <td>Mrs</td>\n",
       "      <td>1013</td>\n",
       "      <td>23-06-2016</td>\n",
       "      <td>0</td>\n",
       "    </tr>\n",
       "    <tr>\n",
       "      <th>1</th>\n",
       "      <td>22-06-2016</td>\n",
       "      <td>27-06-2016</td>\n",
       "      <td>grey</td>\n",
       "      <td>46</td>\n",
       "      <td>19.9</td>\n",
       "      <td>Mrs</td>\n",
       "      <td>1001</td>\n",
       "      <td>15-03-2015</td>\n",
       "      <td>1</td>\n",
       "    </tr>\n",
       "    <tr>\n",
       "      <th>2</th>\n",
       "      <td>22-06-2016</td>\n",
       "      <td>05-07-2016</td>\n",
       "      <td>grey</td>\n",
       "      <td>5</td>\n",
       "      <td>79.9</td>\n",
       "      <td>Mrs</td>\n",
       "      <td>1001</td>\n",
       "      <td>15-03-2015</td>\n",
       "      <td>0</td>\n",
       "    </tr>\n",
       "    <tr>\n",
       "      <th>3</th>\n",
       "      <td>23-06-2016</td>\n",
       "      <td>26-06-2016</td>\n",
       "      <td>brown</td>\n",
       "      <td>20</td>\n",
       "      <td>19.9</td>\n",
       "      <td>Mrs</td>\n",
       "      <td>1013</td>\n",
       "      <td>17-02-2015</td>\n",
       "      <td>0</td>\n",
       "    </tr>\n",
       "    <tr>\n",
       "      <th>4</th>\n",
       "      <td>23-06-2016</td>\n",
       "      <td>26-06-2016</td>\n",
       "      <td>black</td>\n",
       "      <td>44</td>\n",
       "      <td>90.0</td>\n",
       "      <td>Mrs</td>\n",
       "      <td>1006</td>\n",
       "      <td>09-02-2016</td>\n",
       "      <td>1</td>\n",
       "    </tr>\n",
       "  </tbody>\n",
       "</table>\n",
       "</div>"
      ],
      "text/plain": [
       "   order_date delivery_date item_color  brand_id  item_price user_title  \\\n",
       "0  22-06-2016    27-06-2016       navy        30        49.9        Mrs   \n",
       "1  22-06-2016    27-06-2016       grey        46        19.9        Mrs   \n",
       "2  22-06-2016    05-07-2016       grey         5        79.9        Mrs   \n",
       "3  23-06-2016    26-06-2016      brown        20        19.9        Mrs   \n",
       "4  23-06-2016    26-06-2016      black        44        90.0        Mrs   \n",
       "\n",
       "   user_state user_reg_date  return  \n",
       "0        1013    23-06-2016       0  \n",
       "1        1001    15-03-2015       1  \n",
       "2        1001    15-03-2015       0  \n",
       "3        1013    17-02-2015       0  \n",
       "4        1006    09-02-2016       1  "
      ]
     },
     "execution_count": 119,
     "metadata": {},
     "output_type": "execute_result"
    }
   ],
   "source": [
    "df_tr.head()"
   ]
  },
  {
   "cell_type": "code",
   "execution_count": 120,
   "metadata": {},
   "outputs": [],
   "source": [
    "def date_change(dt):\n",
    "    from datetime import datetime\n",
    "    date_format = \"%d-%m-%Y\"\n",
    "    a = datetime.strptime(dt, date_format)\n",
    "    return a"
   ]
  },
  {
   "cell_type": "code",
   "execution_count": 121,
   "metadata": {},
   "outputs": [],
   "source": [
    "df_tr['order_date_useful']=df_tr['order_date'].apply(date_change)\n",
    "df_tr['delivery_date_useful']=df_tr['delivery_date'].apply(date_change)\n",
    "df_tr['user_reg_date_useful']=df_tr['user_reg_date'].apply(date_change)"
   ]
  },
  {
   "cell_type": "code",
   "execution_count": 122,
   "metadata": {},
   "outputs": [
    {
     "data": {
      "text/html": [
       "<div>\n",
       "<style scoped>\n",
       "    .dataframe tbody tr th:only-of-type {\n",
       "        vertical-align: middle;\n",
       "    }\n",
       "\n",
       "    .dataframe tbody tr th {\n",
       "        vertical-align: top;\n",
       "    }\n",
       "\n",
       "    .dataframe thead th {\n",
       "        text-align: right;\n",
       "    }\n",
       "</style>\n",
       "<table border=\"1\" class=\"dataframe\">\n",
       "  <thead>\n",
       "    <tr style=\"text-align: right;\">\n",
       "      <th></th>\n",
       "      <th>order_date</th>\n",
       "      <th>delivery_date</th>\n",
       "      <th>item_color</th>\n",
       "      <th>brand_id</th>\n",
       "      <th>item_price</th>\n",
       "      <th>user_title</th>\n",
       "      <th>user_state</th>\n",
       "      <th>user_reg_date</th>\n",
       "      <th>return</th>\n",
       "      <th>order_date_useful</th>\n",
       "      <th>delivery_date_useful</th>\n",
       "      <th>user_reg_date_useful</th>\n",
       "    </tr>\n",
       "  </thead>\n",
       "  <tbody>\n",
       "    <tr>\n",
       "      <th>0</th>\n",
       "      <td>22-06-2016</td>\n",
       "      <td>27-06-2016</td>\n",
       "      <td>navy</td>\n",
       "      <td>30</td>\n",
       "      <td>49.9</td>\n",
       "      <td>Mrs</td>\n",
       "      <td>1013</td>\n",
       "      <td>23-06-2016</td>\n",
       "      <td>0</td>\n",
       "      <td>2016-06-22</td>\n",
       "      <td>2016-06-27</td>\n",
       "      <td>2016-06-23</td>\n",
       "    </tr>\n",
       "    <tr>\n",
       "      <th>1</th>\n",
       "      <td>22-06-2016</td>\n",
       "      <td>27-06-2016</td>\n",
       "      <td>grey</td>\n",
       "      <td>46</td>\n",
       "      <td>19.9</td>\n",
       "      <td>Mrs</td>\n",
       "      <td>1001</td>\n",
       "      <td>15-03-2015</td>\n",
       "      <td>1</td>\n",
       "      <td>2016-06-22</td>\n",
       "      <td>2016-06-27</td>\n",
       "      <td>2015-03-15</td>\n",
       "    </tr>\n",
       "    <tr>\n",
       "      <th>2</th>\n",
       "      <td>22-06-2016</td>\n",
       "      <td>05-07-2016</td>\n",
       "      <td>grey</td>\n",
       "      <td>5</td>\n",
       "      <td>79.9</td>\n",
       "      <td>Mrs</td>\n",
       "      <td>1001</td>\n",
       "      <td>15-03-2015</td>\n",
       "      <td>0</td>\n",
       "      <td>2016-06-22</td>\n",
       "      <td>2016-07-05</td>\n",
       "      <td>2015-03-15</td>\n",
       "    </tr>\n",
       "    <tr>\n",
       "      <th>3</th>\n",
       "      <td>23-06-2016</td>\n",
       "      <td>26-06-2016</td>\n",
       "      <td>brown</td>\n",
       "      <td>20</td>\n",
       "      <td>19.9</td>\n",
       "      <td>Mrs</td>\n",
       "      <td>1013</td>\n",
       "      <td>17-02-2015</td>\n",
       "      <td>0</td>\n",
       "      <td>2016-06-23</td>\n",
       "      <td>2016-06-26</td>\n",
       "      <td>2015-02-17</td>\n",
       "    </tr>\n",
       "    <tr>\n",
       "      <th>4</th>\n",
       "      <td>23-06-2016</td>\n",
       "      <td>26-06-2016</td>\n",
       "      <td>black</td>\n",
       "      <td>44</td>\n",
       "      <td>90.0</td>\n",
       "      <td>Mrs</td>\n",
       "      <td>1006</td>\n",
       "      <td>09-02-2016</td>\n",
       "      <td>1</td>\n",
       "      <td>2016-06-23</td>\n",
       "      <td>2016-06-26</td>\n",
       "      <td>2016-02-09</td>\n",
       "    </tr>\n",
       "  </tbody>\n",
       "</table>\n",
       "</div>"
      ],
      "text/plain": [
       "   order_date delivery_date item_color  brand_id  item_price user_title  \\\n",
       "0  22-06-2016    27-06-2016       navy        30        49.9        Mrs   \n",
       "1  22-06-2016    27-06-2016       grey        46        19.9        Mrs   \n",
       "2  22-06-2016    05-07-2016       grey         5        79.9        Mrs   \n",
       "3  23-06-2016    26-06-2016      brown        20        19.9        Mrs   \n",
       "4  23-06-2016    26-06-2016      black        44        90.0        Mrs   \n",
       "\n",
       "   user_state user_reg_date  return order_date_useful delivery_date_useful  \\\n",
       "0        1013    23-06-2016       0        2016-06-22           2016-06-27   \n",
       "1        1001    15-03-2015       1        2016-06-22           2016-06-27   \n",
       "2        1001    15-03-2015       0        2016-06-22           2016-07-05   \n",
       "3        1013    17-02-2015       0        2016-06-23           2016-06-26   \n",
       "4        1006    09-02-2016       1        2016-06-23           2016-06-26   \n",
       "\n",
       "  user_reg_date_useful  \n",
       "0           2016-06-23  \n",
       "1           2015-03-15  \n",
       "2           2015-03-15  \n",
       "3           2015-02-17  \n",
       "4           2016-02-09  "
      ]
     },
     "execution_count": 122,
     "metadata": {},
     "output_type": "execute_result"
    }
   ],
   "source": [
    "df_tr.head()"
   ]
  },
  {
   "cell_type": "code",
   "execution_count": 123,
   "metadata": {},
   "outputs": [],
   "source": [
    "df_tr['delivery_time']= df_tr['delivery_date_useful']- df_tr['order_date_useful']\n",
    "df_tr['cust_att_time']= df_tr['order_date_useful']- df_tr['user_reg_date_useful']"
   ]
  },
  {
   "cell_type": "code",
   "execution_count": 124,
   "metadata": {},
   "outputs": [
    {
     "data": {
      "text/html": [
       "<div>\n",
       "<style scoped>\n",
       "    .dataframe tbody tr th:only-of-type {\n",
       "        vertical-align: middle;\n",
       "    }\n",
       "\n",
       "    .dataframe tbody tr th {\n",
       "        vertical-align: top;\n",
       "    }\n",
       "\n",
       "    .dataframe thead th {\n",
       "        text-align: right;\n",
       "    }\n",
       "</style>\n",
       "<table border=\"1\" class=\"dataframe\">\n",
       "  <thead>\n",
       "    <tr style=\"text-align: right;\">\n",
       "      <th></th>\n",
       "      <th>order_date</th>\n",
       "      <th>delivery_date</th>\n",
       "      <th>item_color</th>\n",
       "      <th>brand_id</th>\n",
       "      <th>item_price</th>\n",
       "      <th>user_title</th>\n",
       "      <th>user_state</th>\n",
       "      <th>user_reg_date</th>\n",
       "      <th>return</th>\n",
       "      <th>order_date_useful</th>\n",
       "      <th>delivery_date_useful</th>\n",
       "      <th>user_reg_date_useful</th>\n",
       "      <th>delivery_time</th>\n",
       "      <th>cust_att_time</th>\n",
       "    </tr>\n",
       "  </thead>\n",
       "  <tbody>\n",
       "    <tr>\n",
       "      <th>0</th>\n",
       "      <td>22-06-2016</td>\n",
       "      <td>27-06-2016</td>\n",
       "      <td>navy</td>\n",
       "      <td>30</td>\n",
       "      <td>49.9</td>\n",
       "      <td>Mrs</td>\n",
       "      <td>1013</td>\n",
       "      <td>23-06-2016</td>\n",
       "      <td>0</td>\n",
       "      <td>2016-06-22</td>\n",
       "      <td>2016-06-27</td>\n",
       "      <td>2016-06-23</td>\n",
       "      <td>5 days</td>\n",
       "      <td>-1 days</td>\n",
       "    </tr>\n",
       "    <tr>\n",
       "      <th>1</th>\n",
       "      <td>22-06-2016</td>\n",
       "      <td>27-06-2016</td>\n",
       "      <td>grey</td>\n",
       "      <td>46</td>\n",
       "      <td>19.9</td>\n",
       "      <td>Mrs</td>\n",
       "      <td>1001</td>\n",
       "      <td>15-03-2015</td>\n",
       "      <td>1</td>\n",
       "      <td>2016-06-22</td>\n",
       "      <td>2016-06-27</td>\n",
       "      <td>2015-03-15</td>\n",
       "      <td>5 days</td>\n",
       "      <td>465 days</td>\n",
       "    </tr>\n",
       "    <tr>\n",
       "      <th>2</th>\n",
       "      <td>22-06-2016</td>\n",
       "      <td>05-07-2016</td>\n",
       "      <td>grey</td>\n",
       "      <td>5</td>\n",
       "      <td>79.9</td>\n",
       "      <td>Mrs</td>\n",
       "      <td>1001</td>\n",
       "      <td>15-03-2015</td>\n",
       "      <td>0</td>\n",
       "      <td>2016-06-22</td>\n",
       "      <td>2016-07-05</td>\n",
       "      <td>2015-03-15</td>\n",
       "      <td>13 days</td>\n",
       "      <td>465 days</td>\n",
       "    </tr>\n",
       "    <tr>\n",
       "      <th>3</th>\n",
       "      <td>23-06-2016</td>\n",
       "      <td>26-06-2016</td>\n",
       "      <td>brown</td>\n",
       "      <td>20</td>\n",
       "      <td>19.9</td>\n",
       "      <td>Mrs</td>\n",
       "      <td>1013</td>\n",
       "      <td>17-02-2015</td>\n",
       "      <td>0</td>\n",
       "      <td>2016-06-23</td>\n",
       "      <td>2016-06-26</td>\n",
       "      <td>2015-02-17</td>\n",
       "      <td>3 days</td>\n",
       "      <td>492 days</td>\n",
       "    </tr>\n",
       "    <tr>\n",
       "      <th>4</th>\n",
       "      <td>23-06-2016</td>\n",
       "      <td>26-06-2016</td>\n",
       "      <td>black</td>\n",
       "      <td>44</td>\n",
       "      <td>90.0</td>\n",
       "      <td>Mrs</td>\n",
       "      <td>1006</td>\n",
       "      <td>09-02-2016</td>\n",
       "      <td>1</td>\n",
       "      <td>2016-06-23</td>\n",
       "      <td>2016-06-26</td>\n",
       "      <td>2016-02-09</td>\n",
       "      <td>3 days</td>\n",
       "      <td>135 days</td>\n",
       "    </tr>\n",
       "  </tbody>\n",
       "</table>\n",
       "</div>"
      ],
      "text/plain": [
       "   order_date delivery_date item_color  brand_id  item_price user_title  \\\n",
       "0  22-06-2016    27-06-2016       navy        30        49.9        Mrs   \n",
       "1  22-06-2016    27-06-2016       grey        46        19.9        Mrs   \n",
       "2  22-06-2016    05-07-2016       grey         5        79.9        Mrs   \n",
       "3  23-06-2016    26-06-2016      brown        20        19.9        Mrs   \n",
       "4  23-06-2016    26-06-2016      black        44        90.0        Mrs   \n",
       "\n",
       "   user_state user_reg_date  return order_date_useful delivery_date_useful  \\\n",
       "0        1013    23-06-2016       0        2016-06-22           2016-06-27   \n",
       "1        1001    15-03-2015       1        2016-06-22           2016-06-27   \n",
       "2        1001    15-03-2015       0        2016-06-22           2016-07-05   \n",
       "3        1013    17-02-2015       0        2016-06-23           2016-06-26   \n",
       "4        1006    09-02-2016       1        2016-06-23           2016-06-26   \n",
       "\n",
       "  user_reg_date_useful delivery_time cust_att_time  \n",
       "0           2016-06-23        5 days       -1 days  \n",
       "1           2015-03-15        5 days      465 days  \n",
       "2           2015-03-15       13 days      465 days  \n",
       "3           2015-02-17        3 days      492 days  \n",
       "4           2016-02-09        3 days      135 days  "
      ]
     },
     "execution_count": 124,
     "metadata": {},
     "output_type": "execute_result"
    }
   ],
   "source": [
    "df_tr.head()"
   ]
  },
  {
   "cell_type": "code",
   "execution_count": 125,
   "metadata": {},
   "outputs": [],
   "source": [
    "def day_to_int(a):\n",
    "    b=str(a)\n",
    "    c=b[0:2]\n",
    "    d=int(c)\n",
    "    return d"
   ]
  },
  {
   "cell_type": "code",
   "execution_count": 126,
   "metadata": {},
   "outputs": [],
   "source": [
    "df_tr['delivery_time']=df_tr['delivery_time'].apply(day_to_int)\n",
    "df_tr['cust_att_time']=df_tr['cust_att_time'].apply(day_to_int)"
   ]
  },
  {
   "cell_type": "code",
   "execution_count": 127,
   "metadata": {},
   "outputs": [
    {
     "data": {
      "text/html": [
       "<div>\n",
       "<style scoped>\n",
       "    .dataframe tbody tr th:only-of-type {\n",
       "        vertical-align: middle;\n",
       "    }\n",
       "\n",
       "    .dataframe tbody tr th {\n",
       "        vertical-align: top;\n",
       "    }\n",
       "\n",
       "    .dataframe thead th {\n",
       "        text-align: right;\n",
       "    }\n",
       "</style>\n",
       "<table border=\"1\" class=\"dataframe\">\n",
       "  <thead>\n",
       "    <tr style=\"text-align: right;\">\n",
       "      <th></th>\n",
       "      <th>order_date</th>\n",
       "      <th>delivery_date</th>\n",
       "      <th>item_color</th>\n",
       "      <th>brand_id</th>\n",
       "      <th>item_price</th>\n",
       "      <th>user_title</th>\n",
       "      <th>user_state</th>\n",
       "      <th>user_reg_date</th>\n",
       "      <th>return</th>\n",
       "      <th>order_date_useful</th>\n",
       "      <th>delivery_date_useful</th>\n",
       "      <th>user_reg_date_useful</th>\n",
       "      <th>delivery_time</th>\n",
       "      <th>cust_att_time</th>\n",
       "    </tr>\n",
       "  </thead>\n",
       "  <tbody>\n",
       "    <tr>\n",
       "      <th>0</th>\n",
       "      <td>22-06-2016</td>\n",
       "      <td>27-06-2016</td>\n",
       "      <td>navy</td>\n",
       "      <td>30</td>\n",
       "      <td>49.9</td>\n",
       "      <td>Mrs</td>\n",
       "      <td>1013</td>\n",
       "      <td>23-06-2016</td>\n",
       "      <td>0</td>\n",
       "      <td>2016-06-22</td>\n",
       "      <td>2016-06-27</td>\n",
       "      <td>2016-06-23</td>\n",
       "      <td>5</td>\n",
       "      <td>-1</td>\n",
       "    </tr>\n",
       "    <tr>\n",
       "      <th>1</th>\n",
       "      <td>22-06-2016</td>\n",
       "      <td>27-06-2016</td>\n",
       "      <td>grey</td>\n",
       "      <td>46</td>\n",
       "      <td>19.9</td>\n",
       "      <td>Mrs</td>\n",
       "      <td>1001</td>\n",
       "      <td>15-03-2015</td>\n",
       "      <td>1</td>\n",
       "      <td>2016-06-22</td>\n",
       "      <td>2016-06-27</td>\n",
       "      <td>2015-03-15</td>\n",
       "      <td>5</td>\n",
       "      <td>46</td>\n",
       "    </tr>\n",
       "    <tr>\n",
       "      <th>2</th>\n",
       "      <td>22-06-2016</td>\n",
       "      <td>05-07-2016</td>\n",
       "      <td>grey</td>\n",
       "      <td>5</td>\n",
       "      <td>79.9</td>\n",
       "      <td>Mrs</td>\n",
       "      <td>1001</td>\n",
       "      <td>15-03-2015</td>\n",
       "      <td>0</td>\n",
       "      <td>2016-06-22</td>\n",
       "      <td>2016-07-05</td>\n",
       "      <td>2015-03-15</td>\n",
       "      <td>13</td>\n",
       "      <td>46</td>\n",
       "    </tr>\n",
       "    <tr>\n",
       "      <th>3</th>\n",
       "      <td>23-06-2016</td>\n",
       "      <td>26-06-2016</td>\n",
       "      <td>brown</td>\n",
       "      <td>20</td>\n",
       "      <td>19.9</td>\n",
       "      <td>Mrs</td>\n",
       "      <td>1013</td>\n",
       "      <td>17-02-2015</td>\n",
       "      <td>0</td>\n",
       "      <td>2016-06-23</td>\n",
       "      <td>2016-06-26</td>\n",
       "      <td>2015-02-17</td>\n",
       "      <td>3</td>\n",
       "      <td>49</td>\n",
       "    </tr>\n",
       "    <tr>\n",
       "      <th>4</th>\n",
       "      <td>23-06-2016</td>\n",
       "      <td>26-06-2016</td>\n",
       "      <td>black</td>\n",
       "      <td>44</td>\n",
       "      <td>90.0</td>\n",
       "      <td>Mrs</td>\n",
       "      <td>1006</td>\n",
       "      <td>09-02-2016</td>\n",
       "      <td>1</td>\n",
       "      <td>2016-06-23</td>\n",
       "      <td>2016-06-26</td>\n",
       "      <td>2016-02-09</td>\n",
       "      <td>3</td>\n",
       "      <td>13</td>\n",
       "    </tr>\n",
       "  </tbody>\n",
       "</table>\n",
       "</div>"
      ],
      "text/plain": [
       "   order_date delivery_date item_color  brand_id  item_price user_title  \\\n",
       "0  22-06-2016    27-06-2016       navy        30        49.9        Mrs   \n",
       "1  22-06-2016    27-06-2016       grey        46        19.9        Mrs   \n",
       "2  22-06-2016    05-07-2016       grey         5        79.9        Mrs   \n",
       "3  23-06-2016    26-06-2016      brown        20        19.9        Mrs   \n",
       "4  23-06-2016    26-06-2016      black        44        90.0        Mrs   \n",
       "\n",
       "   user_state user_reg_date  return order_date_useful delivery_date_useful  \\\n",
       "0        1013    23-06-2016       0        2016-06-22           2016-06-27   \n",
       "1        1001    15-03-2015       1        2016-06-22           2016-06-27   \n",
       "2        1001    15-03-2015       0        2016-06-22           2016-07-05   \n",
       "3        1013    17-02-2015       0        2016-06-23           2016-06-26   \n",
       "4        1006    09-02-2016       1        2016-06-23           2016-06-26   \n",
       "\n",
       "  user_reg_date_useful  delivery_time  cust_att_time  \n",
       "0           2016-06-23              5             -1  \n",
       "1           2015-03-15              5             46  \n",
       "2           2015-03-15             13             46  \n",
       "3           2015-02-17              3             49  \n",
       "4           2016-02-09              3             13  "
      ]
     },
     "execution_count": 127,
     "metadata": {},
     "output_type": "execute_result"
    }
   ],
   "source": [
    "df_tr.head()"
   ]
  },
  {
   "cell_type": "code",
   "execution_count": 130,
   "metadata": {},
   "outputs": [
    {
     "data": {
      "text/plain": [
       "14430"
      ]
     },
     "execution_count": 130,
     "metadata": {},
     "output_type": "execute_result"
    }
   ],
   "source": [
    "len(df_tr[df_tr['cust_att_time']<0])"
   ]
  },
  {
   "cell_type": "code",
   "execution_count": 131,
   "metadata": {},
   "outputs": [],
   "source": [
    "#14430 rows of data here are having registartion date less than order date. This means data is not correct. So going to drop such rows\n",
    "df_train=df_tr[df_tr['cust_att_time']>-1]"
   ]
  },
  {
   "cell_type": "code",
   "execution_count": 132,
   "metadata": {},
   "outputs": [
    {
     "data": {
      "text/plain": [
       "58079"
      ]
     },
     "execution_count": 132,
     "metadata": {},
     "output_type": "execute_result"
    }
   ],
   "source": [
    "len(df_train)"
   ]
  },
  {
   "cell_type": "code",
   "execution_count": 133,
   "metadata": {},
   "outputs": [
    {
     "data": {
      "text/html": [
       "<div>\n",
       "<style scoped>\n",
       "    .dataframe tbody tr th:only-of-type {\n",
       "        vertical-align: middle;\n",
       "    }\n",
       "\n",
       "    .dataframe tbody tr th {\n",
       "        vertical-align: top;\n",
       "    }\n",
       "\n",
       "    .dataframe thead th {\n",
       "        text-align: right;\n",
       "    }\n",
       "</style>\n",
       "<table border=\"1\" class=\"dataframe\">\n",
       "  <thead>\n",
       "    <tr style=\"text-align: right;\">\n",
       "      <th></th>\n",
       "      <th>order_date</th>\n",
       "      <th>delivery_date</th>\n",
       "      <th>item_color</th>\n",
       "      <th>brand_id</th>\n",
       "      <th>item_price</th>\n",
       "      <th>user_title</th>\n",
       "      <th>user_state</th>\n",
       "      <th>user_reg_date</th>\n",
       "      <th>return</th>\n",
       "      <th>order_date_useful</th>\n",
       "      <th>delivery_date_useful</th>\n",
       "      <th>user_reg_date_useful</th>\n",
       "      <th>delivery_time</th>\n",
       "      <th>cust_att_time</th>\n",
       "    </tr>\n",
       "  </thead>\n",
       "  <tbody>\n",
       "    <tr>\n",
       "      <th>1</th>\n",
       "      <td>22-06-2016</td>\n",
       "      <td>27-06-2016</td>\n",
       "      <td>grey</td>\n",
       "      <td>46</td>\n",
       "      <td>19.9</td>\n",
       "      <td>Mrs</td>\n",
       "      <td>1001</td>\n",
       "      <td>15-03-2015</td>\n",
       "      <td>1</td>\n",
       "      <td>2016-06-22</td>\n",
       "      <td>2016-06-27</td>\n",
       "      <td>2015-03-15</td>\n",
       "      <td>5</td>\n",
       "      <td>46</td>\n",
       "    </tr>\n",
       "    <tr>\n",
       "      <th>2</th>\n",
       "      <td>22-06-2016</td>\n",
       "      <td>05-07-2016</td>\n",
       "      <td>grey</td>\n",
       "      <td>5</td>\n",
       "      <td>79.9</td>\n",
       "      <td>Mrs</td>\n",
       "      <td>1001</td>\n",
       "      <td>15-03-2015</td>\n",
       "      <td>0</td>\n",
       "      <td>2016-06-22</td>\n",
       "      <td>2016-07-05</td>\n",
       "      <td>2015-03-15</td>\n",
       "      <td>13</td>\n",
       "      <td>46</td>\n",
       "    </tr>\n",
       "    <tr>\n",
       "      <th>3</th>\n",
       "      <td>23-06-2016</td>\n",
       "      <td>26-06-2016</td>\n",
       "      <td>brown</td>\n",
       "      <td>20</td>\n",
       "      <td>19.9</td>\n",
       "      <td>Mrs</td>\n",
       "      <td>1013</td>\n",
       "      <td>17-02-2015</td>\n",
       "      <td>0</td>\n",
       "      <td>2016-06-23</td>\n",
       "      <td>2016-06-26</td>\n",
       "      <td>2015-02-17</td>\n",
       "      <td>3</td>\n",
       "      <td>49</td>\n",
       "    </tr>\n",
       "    <tr>\n",
       "      <th>4</th>\n",
       "      <td>23-06-2016</td>\n",
       "      <td>26-06-2016</td>\n",
       "      <td>black</td>\n",
       "      <td>44</td>\n",
       "      <td>90.0</td>\n",
       "      <td>Mrs</td>\n",
       "      <td>1006</td>\n",
       "      <td>09-02-2016</td>\n",
       "      <td>1</td>\n",
       "      <td>2016-06-23</td>\n",
       "      <td>2016-06-26</td>\n",
       "      <td>2016-02-09</td>\n",
       "      <td>3</td>\n",
       "      <td>13</td>\n",
       "    </tr>\n",
       "    <tr>\n",
       "      <th>5</th>\n",
       "      <td>23-06-2016</td>\n",
       "      <td>26-06-2016</td>\n",
       "      <td>bordeaux</td>\n",
       "      <td>72</td>\n",
       "      <td>59.9</td>\n",
       "      <td>Mrs</td>\n",
       "      <td>1008</td>\n",
       "      <td>21-01-2016</td>\n",
       "      <td>1</td>\n",
       "      <td>2016-06-23</td>\n",
       "      <td>2016-06-26</td>\n",
       "      <td>2016-01-21</td>\n",
       "      <td>3</td>\n",
       "      <td>15</td>\n",
       "    </tr>\n",
       "  </tbody>\n",
       "</table>\n",
       "</div>"
      ],
      "text/plain": [
       "   order_date delivery_date item_color  brand_id  item_price user_title  \\\n",
       "1  22-06-2016    27-06-2016       grey        46        19.9        Mrs   \n",
       "2  22-06-2016    05-07-2016       grey         5        79.9        Mrs   \n",
       "3  23-06-2016    26-06-2016      brown        20        19.9        Mrs   \n",
       "4  23-06-2016    26-06-2016      black        44        90.0        Mrs   \n",
       "5  23-06-2016    26-06-2016   bordeaux        72        59.9        Mrs   \n",
       "\n",
       "   user_state user_reg_date  return order_date_useful delivery_date_useful  \\\n",
       "1        1001    15-03-2015       1        2016-06-22           2016-06-27   \n",
       "2        1001    15-03-2015       0        2016-06-22           2016-07-05   \n",
       "3        1013    17-02-2015       0        2016-06-23           2016-06-26   \n",
       "4        1006    09-02-2016       1        2016-06-23           2016-06-26   \n",
       "5        1008    21-01-2016       1        2016-06-23           2016-06-26   \n",
       "\n",
       "  user_reg_date_useful  delivery_time  cust_att_time  \n",
       "1           2015-03-15              5             46  \n",
       "2           2015-03-15             13             46  \n",
       "3           2015-02-17              3             49  \n",
       "4           2016-02-09              3             13  \n",
       "5           2016-01-21              3             15  "
      ]
     },
     "execution_count": 133,
     "metadata": {},
     "output_type": "execute_result"
    }
   ],
   "source": [
    "df_train.head()"
   ]
  },
  {
   "cell_type": "code",
   "execution_count": 135,
   "metadata": {},
   "outputs": [],
   "source": [
    "#dropping extra columns\n",
    "df_train=df_train.drop(['order_date','delivery_date','user_reg_date','order_date_useful','delivery_date_useful','user_reg_date_useful'], axis=1)"
   ]
  },
  {
   "cell_type": "code",
   "execution_count": 136,
   "metadata": {},
   "outputs": [
    {
     "data": {
      "text/html": [
       "<div>\n",
       "<style scoped>\n",
       "    .dataframe tbody tr th:only-of-type {\n",
       "        vertical-align: middle;\n",
       "    }\n",
       "\n",
       "    .dataframe tbody tr th {\n",
       "        vertical-align: top;\n",
       "    }\n",
       "\n",
       "    .dataframe thead th {\n",
       "        text-align: right;\n",
       "    }\n",
       "</style>\n",
       "<table border=\"1\" class=\"dataframe\">\n",
       "  <thead>\n",
       "    <tr style=\"text-align: right;\">\n",
       "      <th></th>\n",
       "      <th>item_color</th>\n",
       "      <th>brand_id</th>\n",
       "      <th>item_price</th>\n",
       "      <th>user_title</th>\n",
       "      <th>user_state</th>\n",
       "      <th>return</th>\n",
       "      <th>delivery_time</th>\n",
       "      <th>cust_att_time</th>\n",
       "    </tr>\n",
       "  </thead>\n",
       "  <tbody>\n",
       "    <tr>\n",
       "      <th>1</th>\n",
       "      <td>grey</td>\n",
       "      <td>46</td>\n",
       "      <td>19.9</td>\n",
       "      <td>Mrs</td>\n",
       "      <td>1001</td>\n",
       "      <td>1</td>\n",
       "      <td>5</td>\n",
       "      <td>46</td>\n",
       "    </tr>\n",
       "    <tr>\n",
       "      <th>2</th>\n",
       "      <td>grey</td>\n",
       "      <td>5</td>\n",
       "      <td>79.9</td>\n",
       "      <td>Mrs</td>\n",
       "      <td>1001</td>\n",
       "      <td>0</td>\n",
       "      <td>13</td>\n",
       "      <td>46</td>\n",
       "    </tr>\n",
       "    <tr>\n",
       "      <th>3</th>\n",
       "      <td>brown</td>\n",
       "      <td>20</td>\n",
       "      <td>19.9</td>\n",
       "      <td>Mrs</td>\n",
       "      <td>1013</td>\n",
       "      <td>0</td>\n",
       "      <td>3</td>\n",
       "      <td>49</td>\n",
       "    </tr>\n",
       "    <tr>\n",
       "      <th>4</th>\n",
       "      <td>black</td>\n",
       "      <td>44</td>\n",
       "      <td>90.0</td>\n",
       "      <td>Mrs</td>\n",
       "      <td>1006</td>\n",
       "      <td>1</td>\n",
       "      <td>3</td>\n",
       "      <td>13</td>\n",
       "    </tr>\n",
       "    <tr>\n",
       "      <th>5</th>\n",
       "      <td>bordeaux</td>\n",
       "      <td>72</td>\n",
       "      <td>59.9</td>\n",
       "      <td>Mrs</td>\n",
       "      <td>1008</td>\n",
       "      <td>1</td>\n",
       "      <td>3</td>\n",
       "      <td>15</td>\n",
       "    </tr>\n",
       "  </tbody>\n",
       "</table>\n",
       "</div>"
      ],
      "text/plain": [
       "  item_color  brand_id  item_price user_title  user_state  return  \\\n",
       "1       grey        46        19.9        Mrs        1001       1   \n",
       "2       grey         5        79.9        Mrs        1001       0   \n",
       "3      brown        20        19.9        Mrs        1013       0   \n",
       "4      black        44        90.0        Mrs        1006       1   \n",
       "5   bordeaux        72        59.9        Mrs        1008       1   \n",
       "\n",
       "   delivery_time  cust_att_time  \n",
       "1              5             46  \n",
       "2             13             46  \n",
       "3              3             49  \n",
       "4              3             13  \n",
       "5              3             15  "
      ]
     },
     "execution_count": 136,
     "metadata": {},
     "output_type": "execute_result"
    }
   ],
   "source": [
    "df_train.head()"
   ]
  },
  {
   "cell_type": "code",
   "execution_count": 140,
   "metadata": {},
   "outputs": [
    {
     "data": {
      "text/plain": [
       "item_color        object\n",
       "brand_id           int64\n",
       "item_price       float64\n",
       "user_title        object\n",
       "user_state         int64\n",
       "return             int64\n",
       "delivery_time      int64\n",
       "cust_att_time      int64\n",
       "dtype: object"
      ]
     },
     "execution_count": 140,
     "metadata": {},
     "output_type": "execute_result"
    }
   ],
   "source": [
    "df_train.dtypes"
   ]
  },
  {
   "cell_type": "code",
   "execution_count": 142,
   "metadata": {},
   "outputs": [
    {
     "name": "stdout",
     "output_type": "stream",
     "text": [
      "77\n",
      "132\n",
      "16\n"
     ]
    }
   ],
   "source": [
    "print(df_train['item_color'].nunique())\n",
    "print(df_train['brand_id'].nunique())\n",
    "print(df_train['user_state'].nunique())\n"
   ]
  },
  {
   "cell_type": "code",
   "execution_count": 137,
   "metadata": {},
   "outputs": [],
   "source": [
    "from sklearn.preprocessing import LabelEncoder\n",
    "from sklearn.pipeline import Pipeline"
   ]
  },
  {
   "cell_type": "code",
   "execution_count": 138,
   "metadata": {},
   "outputs": [],
   "source": [
    "class MultiColumnLabelEncoder:\n",
    "    def __init__(self,columns = None):\n",
    "        self.columns = columns # array of column names to encode\n",
    "\n",
    "    def fit(self,X,y=None):\n",
    "        return self # not relevant here\n",
    "\n",
    "    def transform(self,X):\n",
    "        '''\n",
    "        Transforms columns of X specified in self.columns using\n",
    "        LabelEncoder(). If no columns specified, transforms all\n",
    "        columns in X.\n",
    "        '''\n",
    "        output = X.copy()\n",
    "        if self.columns is not None:\n",
    "            for col in self.columns:\n",
    "                output[col] = LabelEncoder().fit_transform(output[col])\n",
    "        else:\n",
    "            for colname,col in output.iteritems():\n",
    "                output[colname] = LabelEncoder().fit_transform(col)\n",
    "        return output\n",
    "\n",
    "    def fit_transform(self,X,y=None):\n",
    "        return self.fit(X,y).transform(X)"
   ]
  },
  {
   "cell_type": "code",
   "execution_count": 146,
   "metadata": {},
   "outputs": [],
   "source": [
    "df_train=MultiColumnLabelEncoder(columns = ['item_color','brand_id','user_title','user_state']).fit_transform(df_train)"
   ]
  },
  {
   "cell_type": "code",
   "execution_count": 148,
   "metadata": {},
   "outputs": [
    {
     "data": {
      "text/html": [
       "<div>\n",
       "<style scoped>\n",
       "    .dataframe tbody tr th:only-of-type {\n",
       "        vertical-align: middle;\n",
       "    }\n",
       "\n",
       "    .dataframe tbody tr th {\n",
       "        vertical-align: top;\n",
       "    }\n",
       "\n",
       "    .dataframe thead th {\n",
       "        text-align: right;\n",
       "    }\n",
       "</style>\n",
       "<table border=\"1\" class=\"dataframe\">\n",
       "  <thead>\n",
       "    <tr style=\"text-align: right;\">\n",
       "      <th></th>\n",
       "      <th>item_color</th>\n",
       "      <th>brand_id</th>\n",
       "      <th>item_price</th>\n",
       "      <th>user_title</th>\n",
       "      <th>user_state</th>\n",
       "      <th>return</th>\n",
       "      <th>delivery_time</th>\n",
       "      <th>cust_att_time</th>\n",
       "    </tr>\n",
       "  </thead>\n",
       "  <tbody>\n",
       "    <tr>\n",
       "      <th>item_color</th>\n",
       "      <td>1.000000</td>\n",
       "      <td>-0.041106</td>\n",
       "      <td>-0.163559</td>\n",
       "      <td>0.001838</td>\n",
       "      <td>0.001916</td>\n",
       "      <td>-0.017578</td>\n",
       "      <td>-0.004945</td>\n",
       "      <td>0.000959</td>\n",
       "    </tr>\n",
       "    <tr>\n",
       "      <th>brand_id</th>\n",
       "      <td>-0.041106</td>\n",
       "      <td>1.000000</td>\n",
       "      <td>0.085224</td>\n",
       "      <td>-0.003910</td>\n",
       "      <td>-0.002048</td>\n",
       "      <td>0.023968</td>\n",
       "      <td>0.020883</td>\n",
       "      <td>-0.002702</td>\n",
       "    </tr>\n",
       "    <tr>\n",
       "      <th>item_price</th>\n",
       "      <td>-0.163559</td>\n",
       "      <td>0.085224</td>\n",
       "      <td>1.000000</td>\n",
       "      <td>-0.021008</td>\n",
       "      <td>-0.006233</td>\n",
       "      <td>0.152310</td>\n",
       "      <td>0.130618</td>\n",
       "      <td>0.005201</td>\n",
       "    </tr>\n",
       "    <tr>\n",
       "      <th>user_title</th>\n",
       "      <td>0.001838</td>\n",
       "      <td>-0.003910</td>\n",
       "      <td>-0.021008</td>\n",
       "      <td>1.000000</td>\n",
       "      <td>-0.009235</td>\n",
       "      <td>-0.000131</td>\n",
       "      <td>0.005885</td>\n",
       "      <td>0.034550</td>\n",
       "    </tr>\n",
       "    <tr>\n",
       "      <th>user_state</th>\n",
       "      <td>0.001916</td>\n",
       "      <td>-0.002048</td>\n",
       "      <td>-0.006233</td>\n",
       "      <td>-0.009235</td>\n",
       "      <td>1.000000</td>\n",
       "      <td>-0.005667</td>\n",
       "      <td>-0.000789</td>\n",
       "      <td>0.011826</td>\n",
       "    </tr>\n",
       "    <tr>\n",
       "      <th>return</th>\n",
       "      <td>-0.017578</td>\n",
       "      <td>0.023968</td>\n",
       "      <td>0.152310</td>\n",
       "      <td>-0.000131</td>\n",
       "      <td>-0.005667</td>\n",
       "      <td>1.000000</td>\n",
       "      <td>-0.012543</td>\n",
       "      <td>0.016361</td>\n",
       "    </tr>\n",
       "    <tr>\n",
       "      <th>delivery_time</th>\n",
       "      <td>-0.004945</td>\n",
       "      <td>0.020883</td>\n",
       "      <td>0.130618</td>\n",
       "      <td>0.005885</td>\n",
       "      <td>-0.000789</td>\n",
       "      <td>-0.012543</td>\n",
       "      <td>1.000000</td>\n",
       "      <td>-0.012736</td>\n",
       "    </tr>\n",
       "    <tr>\n",
       "      <th>cust_att_time</th>\n",
       "      <td>0.000959</td>\n",
       "      <td>-0.002702</td>\n",
       "      <td>0.005201</td>\n",
       "      <td>0.034550</td>\n",
       "      <td>0.011826</td>\n",
       "      <td>0.016361</td>\n",
       "      <td>-0.012736</td>\n",
       "      <td>1.000000</td>\n",
       "    </tr>\n",
       "  </tbody>\n",
       "</table>\n",
       "</div>"
      ],
      "text/plain": [
       "               item_color  brand_id  item_price  user_title  user_state  \\\n",
       "item_color       1.000000 -0.041106   -0.163559    0.001838    0.001916   \n",
       "brand_id        -0.041106  1.000000    0.085224   -0.003910   -0.002048   \n",
       "item_price      -0.163559  0.085224    1.000000   -0.021008   -0.006233   \n",
       "user_title       0.001838 -0.003910   -0.021008    1.000000   -0.009235   \n",
       "user_state       0.001916 -0.002048   -0.006233   -0.009235    1.000000   \n",
       "return          -0.017578  0.023968    0.152310   -0.000131   -0.005667   \n",
       "delivery_time   -0.004945  0.020883    0.130618    0.005885   -0.000789   \n",
       "cust_att_time    0.000959 -0.002702    0.005201    0.034550    0.011826   \n",
       "\n",
       "                 return  delivery_time  cust_att_time  \n",
       "item_color    -0.017578      -0.004945       0.000959  \n",
       "brand_id       0.023968       0.020883      -0.002702  \n",
       "item_price     0.152310       0.130618       0.005201  \n",
       "user_title    -0.000131       0.005885       0.034550  \n",
       "user_state    -0.005667      -0.000789       0.011826  \n",
       "return         1.000000      -0.012543       0.016361  \n",
       "delivery_time -0.012543       1.000000      -0.012736  \n",
       "cust_att_time  0.016361      -0.012736       1.000000  "
      ]
     },
     "execution_count": 148,
     "metadata": {},
     "output_type": "execute_result"
    }
   ],
   "source": [
    "df_train.corr()\n",
    "#item_color and item_price are somewhat correlated - (-0.163559) . item_price is more correlated with return - (|0.152310|>|-0.017578|)"
   ]
  },
  {
   "cell_type": "code",
   "execution_count": 149,
   "metadata": {},
   "outputs": [
    {
     "data": {
      "text/html": [
       "<div>\n",
       "<style scoped>\n",
       "    .dataframe tbody tr th:only-of-type {\n",
       "        vertical-align: middle;\n",
       "    }\n",
       "\n",
       "    .dataframe tbody tr th {\n",
       "        vertical-align: top;\n",
       "    }\n",
       "\n",
       "    .dataframe thead th {\n",
       "        text-align: right;\n",
       "    }\n",
       "</style>\n",
       "<table border=\"1\" class=\"dataframe\">\n",
       "  <thead>\n",
       "    <tr style=\"text-align: right;\">\n",
       "      <th></th>\n",
       "      <th>item_color</th>\n",
       "      <th>brand_id</th>\n",
       "      <th>item_price</th>\n",
       "      <th>user_title</th>\n",
       "      <th>user_state</th>\n",
       "      <th>return</th>\n",
       "      <th>delivery_time</th>\n",
       "      <th>cust_att_time</th>\n",
       "    </tr>\n",
       "  </thead>\n",
       "  <tbody>\n",
       "    <tr>\n",
       "      <th>1</th>\n",
       "      <td>47</td>\n",
       "      <td>45</td>\n",
       "      <td>19.9</td>\n",
       "      <td>3</td>\n",
       "      <td>0</td>\n",
       "      <td>1</td>\n",
       "      <td>5</td>\n",
       "      <td>46</td>\n",
       "    </tr>\n",
       "    <tr>\n",
       "      <th>2</th>\n",
       "      <td>47</td>\n",
       "      <td>4</td>\n",
       "      <td>79.9</td>\n",
       "      <td>3</td>\n",
       "      <td>0</td>\n",
       "      <td>0</td>\n",
       "      <td>13</td>\n",
       "      <td>46</td>\n",
       "    </tr>\n",
       "    <tr>\n",
       "      <th>3</th>\n",
       "      <td>22</td>\n",
       "      <td>19</td>\n",
       "      <td>19.9</td>\n",
       "      <td>3</td>\n",
       "      <td>12</td>\n",
       "      <td>0</td>\n",
       "      <td>3</td>\n",
       "      <td>49</td>\n",
       "    </tr>\n",
       "    <tr>\n",
       "      <th>4</th>\n",
       "      <td>18</td>\n",
       "      <td>43</td>\n",
       "      <td>90.0</td>\n",
       "      <td>3</td>\n",
       "      <td>5</td>\n",
       "      <td>1</td>\n",
       "      <td>3</td>\n",
       "      <td>13</td>\n",
       "    </tr>\n",
       "    <tr>\n",
       "      <th>5</th>\n",
       "      <td>21</td>\n",
       "      <td>71</td>\n",
       "      <td>59.9</td>\n",
       "      <td>3</td>\n",
       "      <td>7</td>\n",
       "      <td>1</td>\n",
       "      <td>3</td>\n",
       "      <td>15</td>\n",
       "    </tr>\n",
       "  </tbody>\n",
       "</table>\n",
       "</div>"
      ],
      "text/plain": [
       "   item_color  brand_id  item_price  user_title  user_state  return  \\\n",
       "1          47        45        19.9           3           0       1   \n",
       "2          47         4        79.9           3           0       0   \n",
       "3          22        19        19.9           3          12       0   \n",
       "4          18        43        90.0           3           5       1   \n",
       "5          21        71        59.9           3           7       1   \n",
       "\n",
       "   delivery_time  cust_att_time  \n",
       "1              5             46  \n",
       "2             13             46  \n",
       "3              3             49  \n",
       "4              3             13  \n",
       "5              3             15  "
      ]
     },
     "execution_count": 149,
     "metadata": {},
     "output_type": "execute_result"
    }
   ],
   "source": [
    "df_train.head()"
   ]
  },
  {
   "cell_type": "code",
   "execution_count": null,
   "metadata": {},
   "outputs": [],
   "source": [
    "#pd.get_dummies(df_train,drop_first=True)"
   ]
  },
  {
   "cell_type": "code",
   "execution_count": 152,
   "metadata": {},
   "outputs": [],
   "source": [
    "df_train=df_train[['item_color','brand_id','item_price','user_title','user_state','delivery_time','cust_att_time','return']]"
   ]
  },
  {
   "cell_type": "code",
   "execution_count": 153,
   "metadata": {},
   "outputs": [
    {
     "data": {
      "text/html": [
       "<div>\n",
       "<style scoped>\n",
       "    .dataframe tbody tr th:only-of-type {\n",
       "        vertical-align: middle;\n",
       "    }\n",
       "\n",
       "    .dataframe tbody tr th {\n",
       "        vertical-align: top;\n",
       "    }\n",
       "\n",
       "    .dataframe thead th {\n",
       "        text-align: right;\n",
       "    }\n",
       "</style>\n",
       "<table border=\"1\" class=\"dataframe\">\n",
       "  <thead>\n",
       "    <tr style=\"text-align: right;\">\n",
       "      <th></th>\n",
       "      <th>item_color</th>\n",
       "      <th>brand_id</th>\n",
       "      <th>item_price</th>\n",
       "      <th>user_title</th>\n",
       "      <th>user_state</th>\n",
       "      <th>delivery_time</th>\n",
       "      <th>cust_att_time</th>\n",
       "      <th>return</th>\n",
       "    </tr>\n",
       "  </thead>\n",
       "  <tbody>\n",
       "    <tr>\n",
       "      <th>1</th>\n",
       "      <td>47</td>\n",
       "      <td>45</td>\n",
       "      <td>19.9</td>\n",
       "      <td>3</td>\n",
       "      <td>0</td>\n",
       "      <td>5</td>\n",
       "      <td>46</td>\n",
       "      <td>1</td>\n",
       "    </tr>\n",
       "    <tr>\n",
       "      <th>2</th>\n",
       "      <td>47</td>\n",
       "      <td>4</td>\n",
       "      <td>79.9</td>\n",
       "      <td>3</td>\n",
       "      <td>0</td>\n",
       "      <td>13</td>\n",
       "      <td>46</td>\n",
       "      <td>0</td>\n",
       "    </tr>\n",
       "    <tr>\n",
       "      <th>3</th>\n",
       "      <td>22</td>\n",
       "      <td>19</td>\n",
       "      <td>19.9</td>\n",
       "      <td>3</td>\n",
       "      <td>12</td>\n",
       "      <td>3</td>\n",
       "      <td>49</td>\n",
       "      <td>0</td>\n",
       "    </tr>\n",
       "    <tr>\n",
       "      <th>4</th>\n",
       "      <td>18</td>\n",
       "      <td>43</td>\n",
       "      <td>90.0</td>\n",
       "      <td>3</td>\n",
       "      <td>5</td>\n",
       "      <td>3</td>\n",
       "      <td>13</td>\n",
       "      <td>1</td>\n",
       "    </tr>\n",
       "    <tr>\n",
       "      <th>5</th>\n",
       "      <td>21</td>\n",
       "      <td>71</td>\n",
       "      <td>59.9</td>\n",
       "      <td>3</td>\n",
       "      <td>7</td>\n",
       "      <td>3</td>\n",
       "      <td>15</td>\n",
       "      <td>1</td>\n",
       "    </tr>\n",
       "  </tbody>\n",
       "</table>\n",
       "</div>"
      ],
      "text/plain": [
       "   item_color  brand_id  item_price  user_title  user_state  delivery_time  \\\n",
       "1          47        45        19.9           3           0              5   \n",
       "2          47         4        79.9           3           0             13   \n",
       "3          22        19        19.9           3          12              3   \n",
       "4          18        43        90.0           3           5              3   \n",
       "5          21        71        59.9           3           7              3   \n",
       "\n",
       "   cust_att_time  return  \n",
       "1             46       1  \n",
       "2             46       0  \n",
       "3             49       0  \n",
       "4             13       1  \n",
       "5             15       1  "
      ]
     },
     "execution_count": 153,
     "metadata": {},
     "output_type": "execute_result"
    }
   ],
   "source": [
    "df_train.head()"
   ]
  },
  {
   "cell_type": "code",
   "execution_count": 160,
   "metadata": {},
   "outputs": [],
   "source": [
    "x=df_train.iloc[:,0:7]\n",
    "y=df_train.iloc[:,-1:]"
   ]
  },
  {
   "cell_type": "code",
   "execution_count": 163,
   "metadata": {},
   "outputs": [
    {
     "data": {
      "text/html": [
       "<div>\n",
       "<style scoped>\n",
       "    .dataframe tbody tr th:only-of-type {\n",
       "        vertical-align: middle;\n",
       "    }\n",
       "\n",
       "    .dataframe tbody tr th {\n",
       "        vertical-align: top;\n",
       "    }\n",
       "\n",
       "    .dataframe thead th {\n",
       "        text-align: right;\n",
       "    }\n",
       "</style>\n",
       "<table border=\"1\" class=\"dataframe\">\n",
       "  <thead>\n",
       "    <tr style=\"text-align: right;\">\n",
       "      <th></th>\n",
       "      <th>item_color</th>\n",
       "      <th>brand_id</th>\n",
       "      <th>item_price</th>\n",
       "      <th>user_title</th>\n",
       "      <th>user_state</th>\n",
       "      <th>delivery_time</th>\n",
       "      <th>cust_att_time</th>\n",
       "    </tr>\n",
       "  </thead>\n",
       "  <tbody>\n",
       "    <tr>\n",
       "      <th>1</th>\n",
       "      <td>47</td>\n",
       "      <td>45</td>\n",
       "      <td>19.9</td>\n",
       "      <td>3</td>\n",
       "      <td>0</td>\n",
       "      <td>5</td>\n",
       "      <td>46</td>\n",
       "    </tr>\n",
       "    <tr>\n",
       "      <th>2</th>\n",
       "      <td>47</td>\n",
       "      <td>4</td>\n",
       "      <td>79.9</td>\n",
       "      <td>3</td>\n",
       "      <td>0</td>\n",
       "      <td>13</td>\n",
       "      <td>46</td>\n",
       "    </tr>\n",
       "    <tr>\n",
       "      <th>3</th>\n",
       "      <td>22</td>\n",
       "      <td>19</td>\n",
       "      <td>19.9</td>\n",
       "      <td>3</td>\n",
       "      <td>12</td>\n",
       "      <td>3</td>\n",
       "      <td>49</td>\n",
       "    </tr>\n",
       "    <tr>\n",
       "      <th>4</th>\n",
       "      <td>18</td>\n",
       "      <td>43</td>\n",
       "      <td>90.0</td>\n",
       "      <td>3</td>\n",
       "      <td>5</td>\n",
       "      <td>3</td>\n",
       "      <td>13</td>\n",
       "    </tr>\n",
       "    <tr>\n",
       "      <th>5</th>\n",
       "      <td>21</td>\n",
       "      <td>71</td>\n",
       "      <td>59.9</td>\n",
       "      <td>3</td>\n",
       "      <td>7</td>\n",
       "      <td>3</td>\n",
       "      <td>15</td>\n",
       "    </tr>\n",
       "  </tbody>\n",
       "</table>\n",
       "</div>"
      ],
      "text/plain": [
       "   item_color  brand_id  item_price  user_title  user_state  delivery_time  \\\n",
       "1          47        45        19.9           3           0              5   \n",
       "2          47         4        79.9           3           0             13   \n",
       "3          22        19        19.9           3          12              3   \n",
       "4          18        43        90.0           3           5              3   \n",
       "5          21        71        59.9           3           7              3   \n",
       "\n",
       "   cust_att_time  \n",
       "1             46  \n",
       "2             46  \n",
       "3             49  \n",
       "4             13  \n",
       "5             15  "
      ]
     },
     "execution_count": 163,
     "metadata": {},
     "output_type": "execute_result"
    }
   ],
   "source": [
    "x.head()"
   ]
  },
  {
   "cell_type": "code",
   "execution_count": 164,
   "metadata": {},
   "outputs": [
    {
     "data": {
      "text/html": [
       "<div>\n",
       "<style scoped>\n",
       "    .dataframe tbody tr th:only-of-type {\n",
       "        vertical-align: middle;\n",
       "    }\n",
       "\n",
       "    .dataframe tbody tr th {\n",
       "        vertical-align: top;\n",
       "    }\n",
       "\n",
       "    .dataframe thead th {\n",
       "        text-align: right;\n",
       "    }\n",
       "</style>\n",
       "<table border=\"1\" class=\"dataframe\">\n",
       "  <thead>\n",
       "    <tr style=\"text-align: right;\">\n",
       "      <th></th>\n",
       "      <th>return</th>\n",
       "    </tr>\n",
       "  </thead>\n",
       "  <tbody>\n",
       "    <tr>\n",
       "      <th>1</th>\n",
       "      <td>1</td>\n",
       "    </tr>\n",
       "    <tr>\n",
       "      <th>2</th>\n",
       "      <td>0</td>\n",
       "    </tr>\n",
       "    <tr>\n",
       "      <th>3</th>\n",
       "      <td>0</td>\n",
       "    </tr>\n",
       "    <tr>\n",
       "      <th>4</th>\n",
       "      <td>1</td>\n",
       "    </tr>\n",
       "    <tr>\n",
       "      <th>5</th>\n",
       "      <td>1</td>\n",
       "    </tr>\n",
       "  </tbody>\n",
       "</table>\n",
       "</div>"
      ],
      "text/plain": [
       "   return\n",
       "1       1\n",
       "2       0\n",
       "3       0\n",
       "4       1\n",
       "5       1"
      ]
     },
     "execution_count": 164,
     "metadata": {},
     "output_type": "execute_result"
    }
   ],
   "source": [
    "y.head()"
   ]
  },
  {
   "cell_type": "code",
   "execution_count": 205,
   "metadata": {},
   "outputs": [],
   "source": [
    "from sklearn.model_selection import train_test_split\n",
    "x_train, x_test, y_train, y_test = train_test_split(x, y, test_size = 0.25, random_state = 42)"
   ]
  },
  {
   "cell_type": "code",
   "execution_count": 206,
   "metadata": {},
   "outputs": [
    {
     "data": {
      "text/plain": [
       "(43559, 14520)"
      ]
     },
     "execution_count": 206,
     "metadata": {},
     "output_type": "execute_result"
    }
   ],
   "source": [
    "len(x_train),len(x_test)"
   ]
  },
  {
   "cell_type": "code",
   "execution_count": 207,
   "metadata": {},
   "outputs": [
    {
     "data": {
      "text/plain": [
       "1    22112\n",
       "0    21447\n",
       "Name: return, dtype: int64"
      ]
     },
     "execution_count": 207,
     "metadata": {},
     "output_type": "execute_result"
    }
   ],
   "source": [
    "#almost same\n",
    "y_train['return'].value_counts()"
   ]
  },
  {
   "cell_type": "markdown",
   "metadata": {},
   "source": [
    "# Feature Transformation "
   ]
  },
  {
   "cell_type": "code",
   "execution_count": 174,
   "metadata": {},
   "outputs": [],
   "source": [
    "#Standardization\n",
    "from sklearn.preprocessing import StandardScaler\n",
    "scaler= StandardScaler()"
   ]
  },
  {
   "cell_type": "code",
   "execution_count": 176,
   "metadata": {},
   "outputs": [],
   "source": [
    "#MIN-MAX scalar\n",
    "from sklearn.preprocessing import MinMaxScaler\n",
    "scaler_1=MinMaxScaler()"
   ]
  },
  {
   "cell_type": "code",
   "execution_count": 208,
   "metadata": {},
   "outputs": [],
   "source": [
    "#Robustscaler\n",
    "from sklearn.preprocessing import RobustScaler\n",
    "scaler_2= RobustScaler()\n",
    "df_rs_x_train = pd.DataFrame(scaler_2.fit_transform(x_train))\n",
    "df_rs_x_test = pd.DataFrame(scaler_2.transform(x_test))"
   ]
  },
  {
   "cell_type": "code",
   "execution_count": 209,
   "metadata": {},
   "outputs": [
    {
     "data": {
      "text/html": [
       "<div>\n",
       "<style scoped>\n",
       "    .dataframe tbody tr th:only-of-type {\n",
       "        vertical-align: middle;\n",
       "    }\n",
       "\n",
       "    .dataframe tbody tr th {\n",
       "        vertical-align: top;\n",
       "    }\n",
       "\n",
       "    .dataframe thead th {\n",
       "        text-align: right;\n",
       "    }\n",
       "</style>\n",
       "<table border=\"1\" class=\"dataframe\">\n",
       "  <thead>\n",
       "    <tr style=\"text-align: right;\">\n",
       "      <th></th>\n",
       "      <th>0</th>\n",
       "      <th>1</th>\n",
       "      <th>2</th>\n",
       "      <th>3</th>\n",
       "      <th>4</th>\n",
       "      <th>5</th>\n",
       "      <th>6</th>\n",
       "    </tr>\n",
       "  </thead>\n",
       "  <tbody>\n",
       "    <tr>\n",
       "      <th>0</th>\n",
       "      <td>-0.363636</td>\n",
       "      <td>-0.230769</td>\n",
       "      <td>1.4</td>\n",
       "      <td>0.0</td>\n",
       "      <td>0.250</td>\n",
       "      <td>-0.666667</td>\n",
       "      <td>-0.103448</td>\n",
       "    </tr>\n",
       "    <tr>\n",
       "      <th>1</th>\n",
       "      <td>0.840909</td>\n",
       "      <td>-0.153846</td>\n",
       "      <td>-0.2</td>\n",
       "      <td>0.0</td>\n",
       "      <td>-0.125</td>\n",
       "      <td>-0.333333</td>\n",
       "      <td>0.413793</td>\n",
       "    </tr>\n",
       "    <tr>\n",
       "      <th>2</th>\n",
       "      <td>-0.340909</td>\n",
       "      <td>0.282051</td>\n",
       "      <td>0.0</td>\n",
       "      <td>0.0</td>\n",
       "      <td>-0.625</td>\n",
       "      <td>1.666667</td>\n",
       "      <td>0.103448</td>\n",
       "    </tr>\n",
       "    <tr>\n",
       "      <th>3</th>\n",
       "      <td>0.295455</td>\n",
       "      <td>-0.641026</td>\n",
       "      <td>0.0</td>\n",
       "      <td>0.0</td>\n",
       "      <td>0.375</td>\n",
       "      <td>0.333333</td>\n",
       "      <td>-1.310345</td>\n",
       "    </tr>\n",
       "    <tr>\n",
       "      <th>4</th>\n",
       "      <td>-0.568182</td>\n",
       "      <td>0.589744</td>\n",
       "      <td>-0.2</td>\n",
       "      <td>0.0</td>\n",
       "      <td>-0.125</td>\n",
       "      <td>-0.666667</td>\n",
       "      <td>0.620690</td>\n",
       "    </tr>\n",
       "  </tbody>\n",
       "</table>\n",
       "</div>"
      ],
      "text/plain": [
       "          0         1    2    3      4         5         6\n",
       "0 -0.363636 -0.230769  1.4  0.0  0.250 -0.666667 -0.103448\n",
       "1  0.840909 -0.153846 -0.2  0.0 -0.125 -0.333333  0.413793\n",
       "2 -0.340909  0.282051  0.0  0.0 -0.625  1.666667  0.103448\n",
       "3  0.295455 -0.641026  0.0  0.0  0.375  0.333333 -1.310345\n",
       "4 -0.568182  0.589744 -0.2  0.0 -0.125 -0.666667  0.620690"
      ]
     },
     "execution_count": 209,
     "metadata": {},
     "output_type": "execute_result"
    }
   ],
   "source": [
    "df_rs_x_train.head()"
   ]
  },
  {
   "cell_type": "code",
   "execution_count": 210,
   "metadata": {},
   "outputs": [
    {
     "data": {
      "text/html": [
       "<div>\n",
       "<style scoped>\n",
       "    .dataframe tbody tr th:only-of-type {\n",
       "        vertical-align: middle;\n",
       "    }\n",
       "\n",
       "    .dataframe tbody tr th {\n",
       "        vertical-align: top;\n",
       "    }\n",
       "\n",
       "    .dataframe thead th {\n",
       "        text-align: right;\n",
       "    }\n",
       "</style>\n",
       "<table border=\"1\" class=\"dataframe\">\n",
       "  <thead>\n",
       "    <tr style=\"text-align: right;\">\n",
       "      <th></th>\n",
       "      <th>0</th>\n",
       "      <th>1</th>\n",
       "      <th>2</th>\n",
       "      <th>3</th>\n",
       "      <th>4</th>\n",
       "      <th>5</th>\n",
       "      <th>6</th>\n",
       "    </tr>\n",
       "  </thead>\n",
       "  <tbody>\n",
       "    <tr>\n",
       "      <th>0</th>\n",
       "      <td>-0.363636</td>\n",
       "      <td>-0.564103</td>\n",
       "      <td>-0.099</td>\n",
       "      <td>0.0</td>\n",
       "      <td>-0.750</td>\n",
       "      <td>-0.666667</td>\n",
       "      <td>0.000000</td>\n",
       "    </tr>\n",
       "    <tr>\n",
       "      <th>1</th>\n",
       "      <td>-0.363636</td>\n",
       "      <td>-0.358974</td>\n",
       "      <td>0.000</td>\n",
       "      <td>-2.0</td>\n",
       "      <td>-0.875</td>\n",
       "      <td>-3.333333</td>\n",
       "      <td>-1.310345</td>\n",
       "    </tr>\n",
       "    <tr>\n",
       "      <th>2</th>\n",
       "      <td>0.568182</td>\n",
       "      <td>0.179487</td>\n",
       "      <td>0.200</td>\n",
       "      <td>0.0</td>\n",
       "      <td>-0.750</td>\n",
       "      <td>2.666667</td>\n",
       "      <td>0.793103</td>\n",
       "    </tr>\n",
       "    <tr>\n",
       "      <th>3</th>\n",
       "      <td>0.727273</td>\n",
       "      <td>-0.384615</td>\n",
       "      <td>0.400</td>\n",
       "      <td>0.0</td>\n",
       "      <td>-0.750</td>\n",
       "      <td>0.000000</td>\n",
       "      <td>-0.793103</td>\n",
       "    </tr>\n",
       "    <tr>\n",
       "      <th>4</th>\n",
       "      <td>0.295455</td>\n",
       "      <td>1.871795</td>\n",
       "      <td>-0.500</td>\n",
       "      <td>0.0</td>\n",
       "      <td>-0.750</td>\n",
       "      <td>-0.333333</td>\n",
       "      <td>0.137931</td>\n",
       "    </tr>\n",
       "  </tbody>\n",
       "</table>\n",
       "</div>"
      ],
      "text/plain": [
       "          0         1      2    3      4         5         6\n",
       "0 -0.363636 -0.564103 -0.099  0.0 -0.750 -0.666667  0.000000\n",
       "1 -0.363636 -0.358974  0.000 -2.0 -0.875 -3.333333 -1.310345\n",
       "2  0.568182  0.179487  0.200  0.0 -0.750  2.666667  0.793103\n",
       "3  0.727273 -0.384615  0.400  0.0 -0.750  0.000000 -0.793103\n",
       "4  0.295455  1.871795 -0.500  0.0 -0.750 -0.333333  0.137931"
      ]
     },
     "execution_count": 210,
     "metadata": {},
     "output_type": "execute_result"
    }
   ],
   "source": [
    "df_rs_x_test.head()"
   ]
  },
  {
   "cell_type": "markdown",
   "metadata": {},
   "source": [
    "# Modeling"
   ]
  },
  {
   "cell_type": "code",
   "execution_count": 211,
   "metadata": {},
   "outputs": [],
   "source": [
    "df_rs_x_train_1=df_rs_x_train.iloc[:,0:7].values\n",
    "df_rs_x_test_1= df_rs_x_test.iloc[:,0:7].values"
   ]
  },
  {
   "cell_type": "code",
   "execution_count": 212,
   "metadata": {},
   "outputs": [
    {
     "data": {
      "text/plain": [
       "array([[-0.36363636, -0.56410256, -0.099     , ..., -0.75      ,\n",
       "        -0.66666667,  0.        ],\n",
       "       [-0.36363636, -0.35897436,  0.        , ..., -0.875     ,\n",
       "        -3.33333333, -1.31034483],\n",
       "       [ 0.56818182,  0.17948718,  0.2       , ..., -0.75      ,\n",
       "         2.66666667,  0.79310345],\n",
       "       ...,\n",
       "       [-0.27272727, -0.38461538, -0.1       , ..., -0.75      ,\n",
       "         0.33333333,  0.13793103],\n",
       "       [ 0.77272727,  0.30769231,  2.2       , ..., -0.75      ,\n",
       "        -0.66666667,  0.24137931],\n",
       "       [-0.27272727, -0.38461538, -0.1       , ...,  0.25      ,\n",
       "        -0.66666667,  0.17241379]])"
      ]
     },
     "execution_count": 212,
     "metadata": {},
     "output_type": "execute_result"
    }
   ],
   "source": [
    "df_rs_x_test_1"
   ]
  },
  {
   "cell_type": "code",
   "execution_count": 215,
   "metadata": {},
   "outputs": [],
   "source": [
    "y_train_1=y_train.iloc[:,0:1].values\n",
    "y_test_1=y_test.iloc[:,0:1].values"
   ]
  },
  {
   "cell_type": "code",
   "execution_count": 218,
   "metadata": {},
   "outputs": [
    {
     "name": "stdout",
     "output_type": "stream",
     "text": [
      "43559 43559\n",
      "14520 14520\n"
     ]
    }
   ],
   "source": [
    "print(len(df_rs_x_train_1), len(y_train_1))\n",
    "print(len(df_rs_x_test_1),len(y_test_1))"
   ]
  },
  {
   "cell_type": "code",
   "execution_count": 219,
   "metadata": {},
   "outputs": [],
   "source": [
    "from sklearn.linear_model import LogisticRegression\n",
    "classifier = LogisticRegression()"
   ]
  },
  {
   "cell_type": "code",
   "execution_count": 230,
   "metadata": {},
   "outputs": [],
   "source": [
    "from sklearn.svm import SVC\n",
    "classifier = SVC(kernel = 'linear', random_state = 0)"
   ]
  },
  {
   "cell_type": "code",
   "execution_count": 238,
   "metadata": {},
   "outputs": [],
   "source": [
    "from sklearn.tree import DecisionTreeClassifier\n",
    "classifier = DecisionTreeClassifier(criterion = 'entropy', random_state = 0)"
   ]
  },
  {
   "cell_type": "code",
   "execution_count": 446,
   "metadata": {},
   "outputs": [],
   "source": [
    "from sklearn.ensemble import RandomForestClassifier\n",
    "classifier = RandomForestClassifier(n_estimators = 80, criterion = 'entropy', random_state = 0)"
   ]
  },
  {
   "cell_type": "code",
   "execution_count": 278,
   "metadata": {},
   "outputs": [],
   "source": [
    "from sklearn.naive_bayes import GaussianNB\n",
    "classifier = GaussianNB()"
   ]
  },
  {
   "cell_type": "code",
   "execution_count": 502,
   "metadata": {},
   "outputs": [],
   "source": [
    "#this model we have used for our prediction\n",
    "from sklearn.ensemble import GradientBoostingClassifier\n",
    "classifier = GradientBoostingClassifier(n_estimators=80, learning_rate=0.81,max_depth=1, random_state=42)"
   ]
  },
  {
   "cell_type": "code",
   "execution_count": 503,
   "metadata": {},
   "outputs": [
    {
     "data": {
      "text/plain": [
       "(43559, 43559)"
      ]
     },
     "execution_count": 503,
     "metadata": {},
     "output_type": "execute_result"
    }
   ],
   "source": [
    "len(df_rs_x_train_1),len(y_train_1)"
   ]
  },
  {
   "cell_type": "code",
   "execution_count": 504,
   "metadata": {},
   "outputs": [
    {
     "name": "stderr",
     "output_type": "stream",
     "text": [
      "C:\\Users\\ankur.kumar\\AppData\\Roaming\\Python\\Python37\\site-packages\\sklearn\\ensemble\\_gb.py:1454: DataConversionWarning: A column-vector y was passed when a 1d array was expected. Please change the shape of y to (n_samples, ), for example using ravel().\n",
      "  y = column_or_1d(y, warn=True)\n"
     ]
    },
    {
     "data": {
      "text/plain": [
       "GradientBoostingClassifier(ccp_alpha=0.0, criterion='friedman_mse', init=None,\n",
       "                           learning_rate=0.81, loss='deviance', max_depth=1,\n",
       "                           max_features=None, max_leaf_nodes=None,\n",
       "                           min_impurity_decrease=0.0, min_impurity_split=None,\n",
       "                           min_samples_leaf=1, min_samples_split=2,\n",
       "                           min_weight_fraction_leaf=0.0, n_estimators=80,\n",
       "                           n_iter_no_change=None, presort='deprecated',\n",
       "                           random_state=42, subsample=1.0, tol=0.0001,\n",
       "                           validation_fraction=0.1, verbose=0,\n",
       "                           warm_start=False)"
      ]
     },
     "execution_count": 504,
     "metadata": {},
     "output_type": "execute_result"
    }
   ],
   "source": [
    "classifier.fit(df_rs_x_train_1, y_train_1)"
   ]
  },
  {
   "cell_type": "code",
   "execution_count": 449,
   "metadata": {},
   "outputs": [],
   "source": [
    "y_pred = classifier.predict(df_rs_x_test_1)"
   ]
  },
  {
   "cell_type": "code",
   "execution_count": 450,
   "metadata": {},
   "outputs": [
    {
     "data": {
      "text/plain": [
       "array([0, 1, 1, ..., 1, 1, 1], dtype=int64)"
      ]
     },
     "execution_count": 450,
     "metadata": {},
     "output_type": "execute_result"
    }
   ],
   "source": [
    "y_pred"
   ]
  },
  {
   "cell_type": "code",
   "execution_count": 451,
   "metadata": {},
   "outputs": [],
   "source": [
    "from sklearn.metrics import confusion_matrix\n",
    "from sklearn.metrics import accuracy_score,recall_score,precision_score,f1_score\n",
    "cm = confusion_matrix(y_test_1, y_pred)\n",
    "acc=accuracy_score(y_test_1, y_pred)"
   ]
  },
  {
   "cell_type": "code",
   "execution_count": 452,
   "metadata": {},
   "outputs": [
    {
     "data": {
      "text/plain": [
       "array([[4051, 3098],\n",
       "       [2868, 4503]], dtype=int64)"
      ]
     },
     "execution_count": 452,
     "metadata": {},
     "output_type": "execute_result"
    }
   ],
   "source": [
    "cm"
   ]
  },
  {
   "cell_type": "code",
   "execution_count": 453,
   "metadata": {},
   "outputs": [
    {
     "data": {
      "text/plain": [
       "0.5891184573002755"
      ]
     },
     "execution_count": 453,
     "metadata": {},
     "output_type": "execute_result"
    }
   ],
   "source": [
    "acc"
   ]
  },
  {
   "cell_type": "code",
   "execution_count": 455,
   "metadata": {},
   "outputs": [
    {
     "name": "stderr",
     "output_type": "stream",
     "text": [
      "C:\\Users\\ankur.kumar\\AppData\\Roaming\\Python\\Python37\\site-packages\\sklearn\\model_selection\\_validation.py:515: DataConversionWarning: A column-vector y was passed when a 1d array was expected. Please change the shape of y to (n_samples,), for example using ravel().\n",
      "  estimator.fit(X_train, y_train, **fit_params)\n",
      "C:\\Users\\ankur.kumar\\AppData\\Roaming\\Python\\Python37\\site-packages\\sklearn\\model_selection\\_validation.py:515: DataConversionWarning: A column-vector y was passed when a 1d array was expected. Please change the shape of y to (n_samples,), for example using ravel().\n",
      "  estimator.fit(X_train, y_train, **fit_params)\n",
      "C:\\Users\\ankur.kumar\\AppData\\Roaming\\Python\\Python37\\site-packages\\sklearn\\model_selection\\_validation.py:515: DataConversionWarning: A column-vector y was passed when a 1d array was expected. Please change the shape of y to (n_samples,), for example using ravel().\n",
      "  estimator.fit(X_train, y_train, **fit_params)\n",
      "C:\\Users\\ankur.kumar\\AppData\\Roaming\\Python\\Python37\\site-packages\\sklearn\\model_selection\\_validation.py:515: DataConversionWarning: A column-vector y was passed when a 1d array was expected. Please change the shape of y to (n_samples,), for example using ravel().\n",
      "  estimator.fit(X_train, y_train, **fit_params)\n",
      "C:\\Users\\ankur.kumar\\AppData\\Roaming\\Python\\Python37\\site-packages\\sklearn\\model_selection\\_validation.py:515: DataConversionWarning: A column-vector y was passed when a 1d array was expected. Please change the shape of y to (n_samples,), for example using ravel().\n",
      "  estimator.fit(X_train, y_train, **fit_params)\n",
      "C:\\Users\\ankur.kumar\\AppData\\Roaming\\Python\\Python37\\site-packages\\sklearn\\model_selection\\_validation.py:515: DataConversionWarning: A column-vector y was passed when a 1d array was expected. Please change the shape of y to (n_samples,), for example using ravel().\n",
      "  estimator.fit(X_train, y_train, **fit_params)\n",
      "C:\\Users\\ankur.kumar\\AppData\\Roaming\\Python\\Python37\\site-packages\\sklearn\\model_selection\\_validation.py:515: DataConversionWarning: A column-vector y was passed when a 1d array was expected. Please change the shape of y to (n_samples,), for example using ravel().\n",
      "  estimator.fit(X_train, y_train, **fit_params)\n",
      "C:\\Users\\ankur.kumar\\AppData\\Roaming\\Python\\Python37\\site-packages\\sklearn\\model_selection\\_validation.py:515: DataConversionWarning: A column-vector y was passed when a 1d array was expected. Please change the shape of y to (n_samples,), for example using ravel().\n",
      "  estimator.fit(X_train, y_train, **fit_params)\n",
      "C:\\Users\\ankur.kumar\\AppData\\Roaming\\Python\\Python37\\site-packages\\sklearn\\model_selection\\_validation.py:515: DataConversionWarning: A column-vector y was passed when a 1d array was expected. Please change the shape of y to (n_samples,), for example using ravel().\n",
      "  estimator.fit(X_train, y_train, **fit_params)\n",
      "C:\\Users\\ankur.kumar\\AppData\\Roaming\\Python\\Python37\\site-packages\\sklearn\\model_selection\\_validation.py:515: DataConversionWarning: A column-vector y was passed when a 1d array was expected. Please change the shape of y to (n_samples,), for example using ravel().\n",
      "  estimator.fit(X_train, y_train, **fit_params)\n"
     ]
    },
    {
     "name": "stdout",
     "output_type": "stream",
     "text": [
      "mean acc: 0.5768496466596873\n",
      "std dev: 0.0069581505053437015\n"
     ]
    }
   ],
   "source": [
    "# Applying k-Fold Cross Validation\n",
    "from sklearn.model_selection import cross_val_score\n",
    "accuracies = cross_val_score(estimator = classifier, X = df_rs_x_train_1, y = y_train_1, cv = 10)\n",
    "print('mean acc:',accuracies.mean())\n",
    "print('std dev:',accuracies.std())"
   ]
  },
  {
   "cell_type": "markdown",
   "metadata": {},
   "source": [
    "# making original data ready for prediction"
   ]
  },
  {
   "cell_type": "code",
   "execution_count": 496,
   "metadata": {},
   "outputs": [],
   "source": [
    "def test_ready(train):\n",
    "    train_new=train.drop(['user_dob','user_id'], axis=1)\n",
    "    train_new['delivery_time']= train_new['delivery_date']-train_new['order_date']\n",
    "    train_new['delivery_time']=train_new['delivery_time'].apply(lambda x: x.days)\n",
    "    train_new['delivery_time'].fillna((train_new['delivery_time'].median()), inplace=True)\n",
    "    \n",
    "    train_new['cust_att_time']= train_new['user_reg_date']-train_new['order_date']\n",
    "    train_new['cust_att_time']=train_new['cust_att_time'].apply(lambda x: x.days)\n",
    "    train_new['cust_att_time'].fillna((train_new['cust_att_time'].median()), inplace=True)\n",
    "    \n",
    "    df_tr=train_new.drop(['order_item_id','item_id'], axis=1)\n",
    "    df_tr=df_tr.drop(['item_size'], axis=1)\n",
    "    \n",
    "    df_train=df_tr.drop(['order_date','delivery_date','user_reg_date'], axis=1)\n",
    "    df_train=MultiColumnLabelEncoder(columns = ['item_color','brand_id','user_title','user_state']).fit_transform(df_train)\n",
    "    \n",
    "    df_train=df_train[['item_color','brand_id','item_price','user_title','user_state','delivery_time','cust_att_time']]\n",
    "    \n",
    "    return df_train"
   ]
  },
  {
   "cell_type": "code",
   "execution_count": 498,
   "metadata": {},
   "outputs": [],
   "source": [
    "test_feat=test_ready(test)"
   ]
  },
  {
   "cell_type": "code",
   "execution_count": 499,
   "metadata": {},
   "outputs": [
    {
     "data": {
      "text/html": [
       "<div>\n",
       "<style scoped>\n",
       "    .dataframe tbody tr th:only-of-type {\n",
       "        vertical-align: middle;\n",
       "    }\n",
       "\n",
       "    .dataframe tbody tr th {\n",
       "        vertical-align: top;\n",
       "    }\n",
       "\n",
       "    .dataframe thead th {\n",
       "        text-align: right;\n",
       "    }\n",
       "</style>\n",
       "<table border=\"1\" class=\"dataframe\">\n",
       "  <thead>\n",
       "    <tr style=\"text-align: right;\">\n",
       "      <th></th>\n",
       "      <th>item_color</th>\n",
       "      <th>brand_id</th>\n",
       "      <th>item_price</th>\n",
       "      <th>user_title</th>\n",
       "      <th>user_state</th>\n",
       "      <th>delivery_time</th>\n",
       "      <th>cust_att_time</th>\n",
       "    </tr>\n",
       "  </thead>\n",
       "  <tbody>\n",
       "    <tr>\n",
       "      <th>0</th>\n",
       "      <td>72</td>\n",
       "      <td>41</td>\n",
       "      <td>69.90</td>\n",
       "      <td>3</td>\n",
       "      <td>9</td>\n",
       "      <td>3.0</td>\n",
       "      <td>-91</td>\n",
       "    </tr>\n",
       "    <tr>\n",
       "      <th>1</th>\n",
       "      <td>45</td>\n",
       "      <td>1</td>\n",
       "      <td>19.90</td>\n",
       "      <td>3</td>\n",
       "      <td>9</td>\n",
       "      <td>9.0</td>\n",
       "      <td>-91</td>\n",
       "    </tr>\n",
       "    <tr>\n",
       "      <th>2</th>\n",
       "      <td>73</td>\n",
       "      <td>38</td>\n",
       "      <td>39.95</td>\n",
       "      <td>3</td>\n",
       "      <td>0</td>\n",
       "      <td>3.0</td>\n",
       "      <td>-492</td>\n",
       "    </tr>\n",
       "    <tr>\n",
       "      <th>3</th>\n",
       "      <td>73</td>\n",
       "      <td>4</td>\n",
       "      <td>69.90</td>\n",
       "      <td>3</td>\n",
       "      <td>7</td>\n",
       "      <td>3.0</td>\n",
       "      <td>-154</td>\n",
       "    </tr>\n",
       "    <tr>\n",
       "      <th>4</th>\n",
       "      <td>66</td>\n",
       "      <td>0</td>\n",
       "      <td>89.90</td>\n",
       "      <td>3</td>\n",
       "      <td>0</td>\n",
       "      <td>3.0</td>\n",
       "      <td>-492</td>\n",
       "    </tr>\n",
       "  </tbody>\n",
       "</table>\n",
       "</div>"
      ],
      "text/plain": [
       "   item_color  brand_id  item_price  user_title  user_state  delivery_time  \\\n",
       "0          72        41       69.90           3           9            3.0   \n",
       "1          45         1       19.90           3           9            9.0   \n",
       "2          73        38       39.95           3           0            3.0   \n",
       "3          73         4       69.90           3           7            3.0   \n",
       "4          66         0       89.90           3           0            3.0   \n",
       "\n",
       "   cust_att_time  \n",
       "0            -91  \n",
       "1            -91  \n",
       "2           -492  \n",
       "3           -154  \n",
       "4           -492  "
      ]
     },
     "execution_count": 499,
     "metadata": {},
     "output_type": "execute_result"
    }
   ],
   "source": [
    "test_feat.head()"
   ]
  },
  {
   "cell_type": "code",
   "execution_count": 500,
   "metadata": {},
   "outputs": [],
   "source": [
    "test_fe=test_feat.iloc[:,0:7].values"
   ]
  },
  {
   "cell_type": "code",
   "execution_count": 501,
   "metadata": {},
   "outputs": [
    {
     "data": {
      "text/plain": [
       "array([[  72.  ,   41.  ,   69.9 , ...,    9.  ,    3.  ,  -91.  ],\n",
       "       [  45.  ,    1.  ,   19.9 , ...,    9.  ,    9.  ,  -91.  ],\n",
       "       [  73.  ,   38.  ,   39.95, ...,    0.  ,    3.  , -492.  ],\n",
       "       ...,\n",
       "       [  17.  ,   69.  ,  249.9 , ...,    6.  ,    3.  ,    1.  ],\n",
       "       [  16.  ,  107.  ,  129.9 , ...,    7.  ,    1.  , -235.  ],\n",
       "       [  19.  ,   33.  ,   29.9 , ...,   10.  ,    1.  , -572.  ]])"
      ]
     },
     "execution_count": 501,
     "metadata": {},
     "output_type": "execute_result"
    }
   ],
   "source": [
    "test_fe"
   ]
  },
  {
   "cell_type": "code",
   "execution_count": 505,
   "metadata": {},
   "outputs": [],
   "source": [
    "result= classifier.predict(test_fe)"
   ]
  },
  {
   "cell_type": "code",
   "execution_count": 506,
   "metadata": {},
   "outputs": [
    {
     "data": {
      "text/plain": [
       "array([0, 1, 0, ..., 0, 0, 0], dtype=int64)"
      ]
     },
     "execution_count": 506,
     "metadata": {},
     "output_type": "execute_result"
    }
   ],
   "source": [
    "result"
   ]
  },
  {
   "cell_type": "code",
   "execution_count": 516,
   "metadata": {},
   "outputs": [],
   "source": [
    "res_list=list(result)"
   ]
  },
  {
   "cell_type": "code",
   "execution_count": 517,
   "metadata": {},
   "outputs": [],
   "source": [
    "test_df=test.copy()"
   ]
  },
  {
   "cell_type": "code",
   "execution_count": 518,
   "metadata": {},
   "outputs": [],
   "source": [
    "test_df['return']=res_list"
   ]
  },
  {
   "cell_type": "code",
   "execution_count": 514,
   "metadata": {},
   "outputs": [
    {
     "data": {
      "text/plain": [
       "(20055, 20055)"
      ]
     },
     "execution_count": 514,
     "metadata": {},
     "output_type": "execute_result"
    }
   ],
   "source": [
    "len(res_df),len(test)"
   ]
  },
  {
   "cell_type": "code",
   "execution_count": 519,
   "metadata": {},
   "outputs": [
    {
     "data": {
      "text/html": [
       "<div>\n",
       "<style scoped>\n",
       "    .dataframe tbody tr th:only-of-type {\n",
       "        vertical-align: middle;\n",
       "    }\n",
       "\n",
       "    .dataframe tbody tr th {\n",
       "        vertical-align: top;\n",
       "    }\n",
       "\n",
       "    .dataframe thead th {\n",
       "        text-align: right;\n",
       "    }\n",
       "</style>\n",
       "<table border=\"1\" class=\"dataframe\">\n",
       "  <thead>\n",
       "    <tr style=\"text-align: right;\">\n",
       "      <th></th>\n",
       "      <th>order_item_id</th>\n",
       "      <th>order_date</th>\n",
       "      <th>delivery_date</th>\n",
       "      <th>item_id</th>\n",
       "      <th>item_size</th>\n",
       "      <th>item_color</th>\n",
       "      <th>brand_id</th>\n",
       "      <th>item_price</th>\n",
       "      <th>user_id</th>\n",
       "      <th>user_title</th>\n",
       "      <th>user_dob</th>\n",
       "      <th>user_state</th>\n",
       "      <th>user_reg_date</th>\n",
       "      <th>return</th>\n",
       "    </tr>\n",
       "  </thead>\n",
       "  <tbody>\n",
       "    <tr>\n",
       "      <th>0</th>\n",
       "      <td>26</td>\n",
       "      <td>2016-06-23</td>\n",
       "      <td>2016-06-26</td>\n",
       "      <td>92</td>\n",
       "      <td>xl</td>\n",
       "      <td>turquoise</td>\n",
       "      <td>42</td>\n",
       "      <td>69.90</td>\n",
       "      <td>9392</td>\n",
       "      <td>Mrs</td>\n",
       "      <td>1962-04-14</td>\n",
       "      <td>1010</td>\n",
       "      <td>2016-03-24</td>\n",
       "      <td>0</td>\n",
       "    </tr>\n",
       "    <tr>\n",
       "      <th>1</th>\n",
       "      <td>28</td>\n",
       "      <td>2016-06-23</td>\n",
       "      <td>2016-07-02</td>\n",
       "      <td>2</td>\n",
       "      <td>xxl</td>\n",
       "      <td>green</td>\n",
       "      <td>2</td>\n",
       "      <td>19.90</td>\n",
       "      <td>9392</td>\n",
       "      <td>Mrs</td>\n",
       "      <td>1962-04-14</td>\n",
       "      <td>1010</td>\n",
       "      <td>2016-03-24</td>\n",
       "      <td>1</td>\n",
       "    </tr>\n",
       "    <tr>\n",
       "      <th>2</th>\n",
       "      <td>37</td>\n",
       "      <td>2016-06-23</td>\n",
       "      <td>2016-06-26</td>\n",
       "      <td>895</td>\n",
       "      <td>38</td>\n",
       "      <td>white</td>\n",
       "      <td>39</td>\n",
       "      <td>39.95</td>\n",
       "      <td>30826</td>\n",
       "      <td>Mrs</td>\n",
       "      <td>1964-04-27</td>\n",
       "      <td>1001</td>\n",
       "      <td>2015-02-17</td>\n",
       "      <td>0</td>\n",
       "    </tr>\n",
       "    <tr>\n",
       "      <th>3</th>\n",
       "      <td>56</td>\n",
       "      <td>2016-06-23</td>\n",
       "      <td>NaT</td>\n",
       "      <td>5</td>\n",
       "      <td>l</td>\n",
       "      <td>white</td>\n",
       "      <td>5</td>\n",
       "      <td>69.90</td>\n",
       "      <td>30828</td>\n",
       "      <td>Mrs</td>\n",
       "      <td>1966-05-13</td>\n",
       "      <td>1008</td>\n",
       "      <td>2016-01-21</td>\n",
       "      <td>0</td>\n",
       "    </tr>\n",
       "    <tr>\n",
       "      <th>4</th>\n",
       "      <td>65</td>\n",
       "      <td>2016-06-23</td>\n",
       "      <td>NaT</td>\n",
       "      <td>55</td>\n",
       "      <td>40</td>\n",
       "      <td>purple</td>\n",
       "      <td>1</td>\n",
       "      <td>89.90</td>\n",
       "      <td>22948</td>\n",
       "      <td>Mrs</td>\n",
       "      <td>1957-03-11</td>\n",
       "      <td>1001</td>\n",
       "      <td>2015-02-17</td>\n",
       "      <td>1</td>\n",
       "    </tr>\n",
       "  </tbody>\n",
       "</table>\n",
       "</div>"
      ],
      "text/plain": [
       "   order_item_id order_date delivery_date  item_id item_size item_color  \\\n",
       "0             26 2016-06-23    2016-06-26       92        xl  turquoise   \n",
       "1             28 2016-06-23    2016-07-02        2       xxl      green   \n",
       "2             37 2016-06-23    2016-06-26      895        38      white   \n",
       "3             56 2016-06-23           NaT        5         l      white   \n",
       "4             65 2016-06-23           NaT       55        40     purple   \n",
       "\n",
       "   brand_id  item_price  user_id user_title   user_dob  user_state  \\\n",
       "0        42       69.90     9392        Mrs 1962-04-14        1010   \n",
       "1         2       19.90     9392        Mrs 1962-04-14        1010   \n",
       "2        39       39.95    30826        Mrs 1964-04-27        1001   \n",
       "3         5       69.90    30828        Mrs 1966-05-13        1008   \n",
       "4         1       89.90    22948        Mrs 1957-03-11        1001   \n",
       "\n",
       "  user_reg_date  return  \n",
       "0    2016-03-24       0  \n",
       "1    2016-03-24       1  \n",
       "2    2015-02-17       0  \n",
       "3    2016-01-21       0  \n",
       "4    2015-02-17       1  "
      ]
     },
     "execution_count": 519,
     "metadata": {},
     "output_type": "execute_result"
    }
   ],
   "source": [
    "test_df.head()"
   ]
  },
  {
   "cell_type": "code",
   "execution_count": 520,
   "metadata": {},
   "outputs": [],
   "source": [
    "test_df.to_excel('test_with_return.xlsx')"
   ]
  },
  {
   "cell_type": "code",
   "execution_count": null,
   "metadata": {},
   "outputs": [],
   "source": []
  }
 ],
 "metadata": {
  "kernelspec": {
   "display_name": "Python 3",
   "language": "python",
   "name": "python3"
  },
  "language_info": {
   "codemirror_mode": {
    "name": "ipython",
    "version": 3
   },
   "file_extension": ".py",
   "mimetype": "text/x-python",
   "name": "python",
   "nbconvert_exporter": "python",
   "pygments_lexer": "ipython3",
   "version": "3.7.6"
  }
 },
 "nbformat": 4,
 "nbformat_minor": 2
}
